{
 "cells": [
  {
   "cell_type": "code",
   "execution_count": 3,
   "metadata": {},
   "outputs": [],
   "source": [
    "# Galois Field\n",
    "MODULO = 0b100011101\n",
    "\n",
    "def GF_256_log_antilog_table_generator():\n",
    "    \"\"\" \n",
    "    2^n = x\n",
    "    alpha^n = x\n",
    "    log_table[n] = x\n",
    "    antilog_table[x] = n\n",
    "    the log_table takes the exponent 'n' and returns the integer 'x'\n",
    "    the antilog_table takes the Integer 'x' and returns the exponent 'n'\n",
    "    \"\"\"\n",
    "    log_table = [2**0]\n",
    "    antilog_table = [None] * 256\n",
    "\n",
    "    for power in range(1, 256):\n",
    "        res = log_table[power-1]*2\n",
    "        if res >= 256:\n",
    "            res ^= MODULO\n",
    "\n",
    "        log_table.append(res)\n",
    "        # print(f\"{power}\\t{res}\")\n",
    "\n",
    "    for index, value in enumerate(log_table[:-1]):\n",
    "        antilog_table[value] = index\n",
    "    \n",
    "    return log_table, antilog_table\n",
    "\n",
    "log_table, antilog_table = GF_256_log_antilog_table_generator()\n",
    "\n",
    "assert log_table[:50] == [1, 2, 4, 8, 16, 32, 64, 128, 29, 58, 116, 232, 205, 135, 19, 38, 76, 152, 45, 90, 180, 117, 234, 201, 143, 3, 6, 12, 24, 48, 96, 192, 157, 39, 78, 156, 37, 74, 148, 53, 106, 212, 181, 119, 238, 193, 159, 35, 70, 140]\n",
    "assert antilog_table[:50] == [None, 0, 1, 25, 2, 50, 26, 198, 3, 223, 51, 238, 27, 104, 199, 75, 4, 100, 224, 14, 52, 141, 239, 129, 28, 193, 105, 248, 200, 8, 76, 113, 5, 138, 101, 47, 225, 36, 15, 33, 53, 147, 142, 218, 240, 18, 130, 69, 29, 181]"
   ]
  },
  {
   "cell_type": "code",
   "execution_count": 4,
   "metadata": {},
   "outputs": [
    {
     "data": {
      "text/plain": [
       "76"
      ]
     },
     "execution_count": 4,
     "metadata": {},
     "output_type": "execute_result"
    }
   ],
   "source": [
    "log_table[16]"
   ]
  },
  {
   "cell_type": "code",
   "execution_count": 5,
   "metadata": {},
   "outputs": [
    {
     "data": {
      "text/plain": [
       "242"
      ]
     },
     "execution_count": 5,
     "metadata": {},
     "output_type": "execute_result"
    }
   ],
   "source": [
    "antilog_table[176]"
   ]
  },
  {
   "cell_type": "code",
   "execution_count": 6,
   "metadata": {},
   "outputs": [],
   "source": [
    "# addition in the Galois Field:\n",
    "\"\"\"\n",
    "addition is just xor'ing\n",
    "c = a + b\n",
    "c = a ^ b\n",
    "\"\"\"\n",
    "\n",
    "def gf_add(a: int, b: int) -> int:\n",
    "    assert a ^ b <= 255\n",
    "    return a ^ b\n",
    "\n",
    "assert gf_add(1, 1) == 0\n",
    "assert gf_add(0, 1) == 1\n",
    "assert gf_add(1, 2) == 3\n",
    "assert gf_add(3, 4) == 7\n",
    "assert gf_add(2, 12) == 14"
   ]
  },
  {
   "cell_type": "code",
   "execution_count": 8,
   "metadata": {},
   "outputs": [],
   "source": [
    "# multiplication in the Galois Field:\n",
    "\"\"\"\n",
    "c = a * b\n",
    "c = 2**antilog(a) * 2**antilog(b)\n",
    "c = 2**(antilog(a) + antilog(b))\n",
    "c = log(antilog(a) + antilog(b)%255)\n",
    "\"\"\"\n",
    "\n",
    "def gf_mul(a, b):\n",
    "    exponent = antilog_table[a]+antilog_table[b]\n",
    "    # print(f\"{exponent=} {exponent%255=}\")\n",
    "    return log_table[exponent%255]\n",
    "\n",
    "assert gf_mul(16, 32) == 58\n",
    "assert gf_mul(215, 198) == 240\n",
    "assert gf_mul(50, 46) == 47"
   ]
  },
  {
   "cell_type": "code",
   "execution_count": 10,
   "metadata": {},
   "outputs": [
    {
     "name": "stdout",
     "output_type": "stream",
     "text": [
      "1\n",
      "2\n"
     ]
    }
   ],
   "source": [
    "print(log_table[0])\n",
    "print(log_table[1])"
   ]
  },
  {
   "cell_type": "code",
   "execution_count": null,
   "metadata": {},
   "outputs": [],
   "source": []
  }
 ],
 "metadata": {
  "kernelspec": {
   "display_name": "Python 3",
   "language": "python",
   "name": "python3"
  },
  "language_info": {
   "codemirror_mode": {
    "name": "ipython",
    "version": 3
   },
   "file_extension": ".py",
   "mimetype": "text/x-python",
   "name": "python",
   "nbconvert_exporter": "python",
   "pygments_lexer": "ipython3",
   "version": "3.9.0"
  },
  "orig_nbformat": 4,
  "vscode": {
   "interpreter": {
    "hash": "11938c6bc6919ae2720b4d5011047913343b08a43b18698fd82dedb0d4417594"
   }
  }
 },
 "nbformat": 4,
 "nbformat_minor": 2
}
