{
 "cells": [
  {
   "cell_type": "code",
   "execution_count": 1,
   "metadata": {},
   "outputs": [],
   "source": [
    "import numpy as np\n",
    "import qrcode\n",
    "import pickle\n",
    "\n",
    "from enum import Enum, auto"
   ]
  },
  {
   "cell_type": "code",
   "execution_count": 2,
   "metadata": {},
   "outputs": [
    {
     "data": {
      "image/png": "[encoded data removed]",
      "text/plain": [
       "<qrcode.image.pil.PilImage at 0x14e3679ae80>"
      ]
     },
     "execution_count": 2,
     "metadata": {},
     "output_type": "execute_result"
    }
   ],
   "source": [
    "qr = qrcode.QRCode(error_correction=qrcode.ERROR_CORRECT_M)\n",
    "qr.add_data(\"HELLO WORLD\")\n",
    "qr.make_image()\n",
    "# qr.add_data(\"9\"*20)\n",
    "# qr.best_fit()"
   ]
  },
  {
   "cell_type": "code",
   "execution_count": 2,
   "metadata": {},
   "outputs": [],
   "source": [
    "# class ModeIndicator(Enum):\n",
    "#     numeric_mode = 0b0001\n",
    "#     alphanumeric_mode = 0b0010\n",
    "#     byte_mode = 0b0100\n",
    "#     kanji_mode = 0b1000\n",
    "#     ECI_mode = 0b0111\n",
    "\n",
    "# mode_indicator_mapping = {0b0001:0, 0b0010: 1, 0b0100:2, 0b1000:3}\n",
    "\n",
    "class ModeIndicator(Enum):\n",
    "    numeric_mode = 0\n",
    "    alphanumeric_mode = auto()\n",
    "    byte_mode = auto()\n",
    "    kanji_mode = auto()\n",
    "    ECI_mode = auto()\n",
    "\n",
    "mode_indicator_mapping = {\n",
    "    ModeIndicator.numeric_mode: \"0001\", \n",
    "    ModeIndicator.alphanumeric_mode: \"0010\", \n",
    "    ModeIndicator.byte_mode: \"0100\", \n",
    "    ModeIndicator.kanji_mode: \"1000\"\n",
    "}\n",
    "\n",
    "class ErrorCorrectionLevel(Enum):\n",
    "    L = 1\n",
    "    M = 2\n",
    "    Q = 3\n",
    "    H = 4\n",
    "\n",
    "class SizeLevel(Enum):\n",
    "    small = auto()\n",
    "    medium = auto()\n",
    "    large = auto()\n",
    "\n",
    "assert mode_indicator_mapping[ModeIndicator.numeric_mode] == \"0001\"\n",
    "assert mode_indicator_mapping[ModeIndicator.alphanumeric_mode] == \"0010\"\n",
    "assert mode_indicator_mapping[ModeIndicator.byte_mode] == \"0100\"\n",
    "assert mode_indicator_mapping[ModeIndicator.kanji_mode] == \"1000\""
   ]
  },
  {
   "cell_type": "code",
   "execution_count": 3,
   "metadata": {},
   "outputs": [],
   "source": [
    "# size_level\n",
    "#   Small: 1 to 9\n",
    "#   Medium: 10 to 26\n",
    "#   Large: 27 to 40\n",
    "\n",
    "def get_size_from_version(version: int) -> str:\n",
    "    if not 0 < version < 41:\n",
    "        raise ValueError(f\"the specified version is not between 1 through 40 (inclusive): {version}\")\n",
    "    if 1 <= version <= 9:\n",
    "        return SizeLevel.small\n",
    "    if 10 <= version <= 26:\n",
    "        return SizeLevel.medium\n",
    "    if 27 <= version <= 40:\n",
    "        return SizeLevel.large\n",
    "\n",
    "assert get_size_from_version(5) == SizeLevel.small\n",
    "assert get_size_from_version(9) == SizeLevel.small\n",
    "assert get_size_from_version(26) == SizeLevel.medium\n",
    "assert get_size_from_version(40) == SizeLevel.large"
   ]
  },
  {
   "cell_type": "code",
   "execution_count": 35,
   "metadata": {},
   "outputs": [],
   "source": [
    "char_count_byte_length_for_version_and_mode = {\n",
    "    SizeLevel.small : {\n",
    "        ModeIndicator.numeric_mode : 10,\n",
    "        ModeIndicator.alphanumeric_mode : 9,\n",
    "        ModeIndicator.byte_mode : 8,\n",
    "        ModeIndicator.kanji_mode : 8\n",
    "    },\n",
    "    SizeLevel.medium : {\n",
    "        ModeIndicator.numeric_mode : 12,\n",
    "        ModeIndicator.alphanumeric_mode : 11,\n",
    "        ModeIndicator.byte_mode : 16,\n",
    "        ModeIndicator.kanji_mode : 10\n",
    "    },\n",
    "    SizeLevel.large : {\n",
    "        ModeIndicator.numeric_mode : 14,\n",
    "        ModeIndicator.alphanumeric_mode : 13,\n",
    "        ModeIndicator.byte_mode : 16,\n",
    "        ModeIndicator.kanji_mode : 12\n",
    "    }\n",
    "}\n",
    "\n",
    "def get_char_counter_pad(version: int, mode: ModeIndicator):\n",
    "    return char_count_byte_length_for_version_and_mode[get_size_from_version(version)][mode]\n",
    "\n",
    "assert get_char_counter_pad(1, ModeIndicator.alphanumeric_mode) == 9\n",
    "assert get_char_counter_pad(20, ModeIndicator.byte_mode) == 16\n",
    "\n",
    "def get_char_counter_binary(length: int, version: int, mode: ModeIndicator):\n",
    "    pad = get_char_counter_pad(version, mode) # get the amount of padding needed\n",
    "    return format(length, f\">0{pad}b\")  # pad the binary to the length specified\n",
    "\n",
    "assert get_char_counter_binary(11, 1, ModeIndicator.alphanumeric_mode) == '000001011'\n",
    "assert get_char_counter_binary(100, 30, ModeIndicator.alphanumeric_mode) == '0000001100100'"
   ]
  },
  {
   "cell_type": "code",
   "execution_count": 36,
   "metadata": {},
   "outputs": [],
   "source": [
    "filepath = \"../resources/version.pickle\"\n",
    "\n",
    "with open(filepath, \"rb\") as file:\n",
    "    versions = pickle.load(file)"
   ]
  },
  {
   "cell_type": "code",
   "execution_count": 37,
   "metadata": {},
   "outputs": [],
   "source": [
    "def get_minimum_version(character_length, mode, error_correction_level, minimum_version=1):\n",
    "    \"\"\" get the minumum version (equivalent to the size of the qr code) for the specified mode and error correction level\n",
    "    \"\"\"\n",
    "    for index, version in enumerate(versions):\n",
    "        len_in_version = version[error_correction_level.value][mode.value]\n",
    "        if len_in_version >= character_length:\n",
    "            return max(index+1, minimum_version)\n",
    "\n",
    "        #     if index+1 < minimum_version:\n",
    "        #         return minimum_version\n",
    "        #     return index+1\n",
    "    raise Exception(\"data too big\")\n",
    "\n",
    "assert get_minimum_version(20, ModeIndicator.alphanumeric_mode, ErrorCorrectionLevel.M, minimum_version=10) == 10\n",
    "assert get_minimum_version(2000, ModeIndicator.alphanumeric_mode, ErrorCorrectionLevel.L) == 27\n",
    "assert get_minimum_version(2000, ModeIndicator.numeric_mode, ErrorCorrectionLevel.Q, minimum_version=26) == 28\n",
    "assert get_minimum_version(2000, ModeIndicator.byte_mode, ErrorCorrectionLevel.L) == 33"
   ]
  },
  {
   "cell_type": "code",
   "execution_count": 38,
   "metadata": {},
   "outputs": [],
   "source": [
    "digits = \"0123456789\" # only digits\n",
    "alphanumeric = \"0123456789ABCDEFGHIJKLMNOPQRSTUVWXYZ $%*+-./:\" # digits, cap_alphabet, space, $, %, *, +, -, ., /, :\n",
    "\n",
    "def get_val_for_char(char):\n",
    "    return alphanumeric.find(char)\n",
    "\n",
    "assert get_val_for_char('A') == 10\n",
    "assert get_val_for_char(':') == 44\n",
    "\n",
    "def get_char_for_val(val):\n",
    "    return alphanumeric[val]\n",
    "\n",
    "assert get_char_for_val(10) == 'A'\n",
    "assert get_char_for_val(44) == ':'"
   ]
  },
  {
   "cell_type": "code",
   "execution_count": 39,
   "metadata": {},
   "outputs": [],
   "source": [
    "def get_mode(data):\n",
    "    if set(data).issubset(digits): # or use re.match\n",
    "        return ModeIndicator.numeric_mode\n",
    "    elif set(data).issubset(alphanumeric):\n",
    "        return ModeIndicator.alphanumeric_mode\n",
    "    # elif # kanji\n",
    "    #     print(\"use kanji mode\")\n",
    "        # mode_indicator = ModeIndicator.kanji_mode\n",
    "    else:\n",
    "        return ModeIndicator.byte_mode\n",
    "\n",
    "assert get_mode(\"12434\") == ModeIndicator.numeric_mode\n",
    "assert get_mode(\"HELLO WORLD*+-123\") == ModeIndicator.alphanumeric_mode\n",
    "assert get_mode(\"324kjdsfSFJ!\") == ModeIndicator.byte_mode\n",
    "\n",
    "# not implemented:\n",
    "#   - Extended Channel Interpretation (ECI) mode\n",
    "#   - Structured Append mode\n",
    "#   - FNC1 mode"
   ]
  },
  {
   "cell_type": "code",
   "execution_count": 40,
   "metadata": {},
   "outputs": [],
   "source": [
    "# https://www.thonky.com/qr-code-tutorial/alphanumeric-mode-encoding\n",
    "def encode_alphanumeric(data):\n",
    "    encoded_data = \"\"\n",
    "    pairs = [data[i:i+2] for i in range(0, len(data), 2)]\n",
    "    \n",
    "    for pair in pairs:\n",
    "        if len(pair) == 1:\n",
    "            val = get_val_for_char(pair)\n",
    "            encoded_data += format(val, \">06b\")\n",
    "            break\n",
    "        \n",
    "        val1 = get_val_for_char(pair[0])\n",
    "        val2 = get_val_for_char(pair[1])\n",
    "        pair_val = (45*val1)+val2\n",
    "\n",
    "        encoded_data += format(pair_val, \">011b\")\n",
    "    return encoded_data\n",
    "\n",
    "assert encode_alphanumeric(\"HELLO WORLD\") == '0110000101101111000110100010111001011011100010011010100001101'\n",
    "\n",
    "\n",
    "# https://www.thonky.com/qr-code-tutorial/numeric-mode-encoding\n",
    "def encode_numeric(data):\n",
    "    encoded_data = \"\"\n",
    "    pairs = [data[i:i+3] for i in range(0, len(data), 3)]\n",
    "\n",
    "    for pair in pairs:\n",
    "        if len(pair) == 1 or pair[0:2] == \"00\":\n",
    "            encoded_data += format(int(pair), \">04b\")\n",
    "        elif len(pair) == 2 or pair[0] == \"0\":\n",
    "            encoded_data += format(int(pair), \">07b\")\n",
    "        elif len(pair) == 3:\n",
    "            encoded_data += format(int(pair), \">010b\")\n",
    "    return encoded_data\n",
    "\n",
    "assert encode_numeric(\"8675309\") == '110110001110000100101001'\n",
    "\n",
    "\n",
    "# https://www.thonky.com/qr-code-tutorial/byte-mode-encoding\n",
    "def encode_byte(data):\n",
    "    data_bytes = data.encode(\"ISO 8859-1\") # iso 8859 latin-1 (Western europe)\n",
    "    # data_bytes = data.encode(\"UTF-8\")\n",
    "\n",
    "    encoded_data = \"\".join(format(byte, \"0>8b\") for byte in data_bytes)\n",
    "    return encoded_data\n",
    "\n",
    "assert encode_byte(\"Hello, world!\") == '01001000011001010110110001101100011011110010110000100000011101110110111101110010011011000110010000100001'\n",
    "\n",
    "\n",
    "# https://www.thonky.com/qr-code-tutorial/kanji-mode-encoding\n",
    "def encode_kanji(data):\n",
    "    pass"
   ]
  },
  {
   "cell_type": "code",
   "execution_count": 41,
   "metadata": {},
   "outputs": [],
   "source": [
    "def encode_data(data, mode):\n",
    "    if mode == ModeIndicator.numeric_mode:\n",
    "        return encode_numeric(data)\n",
    "    elif mode == ModeIndicator.alphanumeric_mode:\n",
    "        return encode_alphanumeric(data)\n",
    "    elif mode == ModeIndicator.byte_mode:\n",
    "        return encode_byte(data)\n",
    "    elif mode == ModeIndicator.kanji_mode:\n",
    "        return encode_kanji(data)\n"
   ]
  },
  {
   "cell_type": "code",
   "execution_count": 42,
   "metadata": {},
   "outputs": [],
   "source": [
    "# data = \"this is some data to be encoded into an QR-Code\"\n",
    "# data = \"1343a\"\n",
    "data = \"HELLO WORLD\"\n",
    "\n",
    "error_correction_level = ErrorCorrectionLevel.M\n",
    "mode_indicator = ModeIndicator.alphanumeric_mode\n",
    "supposed_size_for_version_and_mode = 11 # optional"
   ]
  },
  {
   "cell_type": "code",
   "execution_count": 43,
   "metadata": {},
   "outputs": [
    {
     "data": {
      "text/plain": [
       "'Zm9vOnBhc3N3b3Jk'"
      ]
     },
     "execution_count": 43,
     "metadata": {},
     "output_type": "execute_result"
    }
   ],
   "source": [
    "import codecs\n",
    "codecs.decode(b\"Zm9vOnBhc3N3b3Jk\")"
   ]
  },
  {
   "cell_type": "code",
   "execution_count": 44,
   "metadata": {},
   "outputs": [
    {
     "name": "stdout",
     "output_type": "stream",
     "text": [
      "data='HELLO WORLD', len(data)=11, error_correction_level.name='L', mode.name='alphanumeric_mode', version=1\n",
      "mode_indicator='0010', character_count_indicator='000001011'\n",
      "total='0010|000001011'\n"
     ]
    }
   ],
   "source": [
    "data = \"HELLO WORLD\"\n",
    "error_correction_level = ErrorCorrectionLevel.L\n",
    "mode = get_mode(data)\n",
    "version = get_minimum_version(len(data), mode, error_correction_level)\n",
    "\n",
    "mode_indicator = mode_indicator_mapping[mode]\n",
    "character_count_indicator = get_char_counter_binary(len(data), version, mode)\n",
    "encoded_data = encode_data(data, mode)\n",
    "\n",
    "total = mode_indicator + \"|\" + character_count_indicator\n",
    "# total = mode_indicator\n",
    "\n",
    "print(f\"{data=}, {len(data)=}, {error_correction_level.name=}, {mode.name=}, {version=}\")\n",
    "print(f\"{mode_indicator=}, {character_count_indicator=}\")\n",
    "print(f\"{total=}\")"
   ]
  },
  {
   "cell_type": "code",
   "execution_count": null,
   "metadata": {},
   "outputs": [],
   "source": []
  }
 ],
 "metadata": {
  "kernelspec": {
   "display_name": "Python 3",
   "language": "python",
   "name": "python3"
  },
  "language_info": {
   "codemirror_mode": {
    "name": "ipython",
    "version": 3
   },
   "file_extension": ".py",
   "mimetype": "text/x-python",
   "name": "python",
   "nbconvert_exporter": "python",
   "pygments_lexer": "ipython3",
   "version": "3.9.0 (tags/v3.9.0:9cf6752, Oct  5 2020, 15:34:40) [MSC v.1927 64 bit (AMD64)]"
  },
  "orig_nbformat": 4,
  "vscode": {
   "interpreter": {
    "hash": "11938c6bc6919ae2720b4d5011047913343b08a43b18698fd82dedb0d4417594"
   }
  }
 },
 "nbformat": 4,
 "nbformat_minor": 2
}
