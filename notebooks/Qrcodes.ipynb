{
 "cells": [
  {
   "cell_type": "code",
   "execution_count": 103,
   "metadata": {},
   "outputs": [],
   "source": [
    "import qrcode\n",
    "import pickle\n",
    "import numpy as np\n",
    "\n",
    "from enum import Enum, auto\n",
    "from typing import List"
   ]
  },
  {
   "cell_type": "code",
   "execution_count": 104,
   "metadata": {},
   "outputs": [
    {
     "data": {
      "image/png": "[encoded data removed]",
      "text/plain": [
       "<qrcode.image.pil.PilImage at 0x24e459b69d0>"
      ]
     },
     "execution_count": 104,
     "metadata": {},
     "output_type": "execute_result"
    }
   ],
   "source": [
    "qr = qrcode.QRCode(error_correction=qrcode.ERROR_CORRECT_Q)\n",
    "qr.add_data(\"HELLO WORLD\")\n",
    "qr.version = 40\n",
    "qr.make_image()\n",
    "# qr.add_data(\"9\"*20)\n",
    "# qr.best_fit()"
   ]
  },
  {
   "cell_type": "code",
   "execution_count": 105,
   "metadata": {},
   "outputs": [],
   "source": [
    "# class ModeIndicator(Enum):\n",
    "#     numeric_mode = 0b0001\n",
    "#     alphanumeric_mode = 0b0010\n",
    "#     byte_mode = 0b0100\n",
    "#     kanji_mode = 0b1000\n",
    "#     ECI_mode = 0b0111\n",
    "\n",
    "# mode_indicator_mapping = {0b0001:0, 0b0010: 1, 0b0100:2, 0b1000:3}\n",
    "\n",
    "class ModeIndicator(Enum):\n",
    "    numeric_mode = 0\n",
    "    alphanumeric_mode = 1\n",
    "    byte_mode = 2\n",
    "    kanji_mode = 3\n",
    "    # ECI_mode = auto()\n",
    "\n",
    "mode_indicator_mapping = {\n",
    "    ModeIndicator.numeric_mode: \"0001\", \n",
    "    ModeIndicator.alphanumeric_mode: \"0010\", \n",
    "    ModeIndicator.byte_mode: \"0100\", \n",
    "    ModeIndicator.kanji_mode: \"1000\"\n",
    "}\n",
    "\n",
    "class ErrorCorrectionLevel(Enum):\n",
    "    L = 1\n",
    "    M = 2\n",
    "    Q = 3\n",
    "    H = 4\n",
    "\n",
    "class SizeLevel(Enum):\n",
    "    small = auto()\n",
    "    medium = auto()\n",
    "    large = auto()\n",
    "\n",
    "assert mode_indicator_mapping[ModeIndicator.numeric_mode] == \"0001\"\n",
    "assert mode_indicator_mapping[ModeIndicator.alphanumeric_mode] == \"0010\"\n",
    "assert mode_indicator_mapping[ModeIndicator.byte_mode] == \"0100\"\n",
    "assert mode_indicator_mapping[ModeIndicator.kanji_mode] == \"1000\""
   ]
  },
  {
   "cell_type": "code",
   "execution_count": 106,
   "metadata": {},
   "outputs": [],
   "source": [
    "# size_level\n",
    "#   Small: 1 to 9\n",
    "#   Medium: 10 to 26\n",
    "#   Large: 27 to 40\n",
    "\n",
    "def get_size_from_version(version: int) -> str:\n",
    "    if not 0 < version < 41:\n",
    "        raise ValueError(f\"the specified version is not between 1 through 40 (inclusive): {version}\")\n",
    "    if 1 <= version <= 9:\n",
    "        return SizeLevel.small\n",
    "    if 10 <= version <= 26:\n",
    "        return SizeLevel.medium\n",
    "    if 27 <= version <= 40:\n",
    "        return SizeLevel.large\n",
    "\n",
    "assert get_size_from_version(5) == SizeLevel.small\n",
    "assert get_size_from_version(9) == SizeLevel.small\n",
    "assert get_size_from_version(26) == SizeLevel.medium\n",
    "assert get_size_from_version(40) == SizeLevel.large"
   ]
  },
  {
   "cell_type": "code",
   "execution_count": 107,
   "metadata": {},
   "outputs": [],
   "source": [
    "char_count_byte_length_for_version_and_mode = {\n",
    "    SizeLevel.small : {\n",
    "        ModeIndicator.numeric_mode : 10,\n",
    "        ModeIndicator.alphanumeric_mode : 9,\n",
    "        ModeIndicator.byte_mode : 8,\n",
    "        ModeIndicator.kanji_mode : 8\n",
    "    },\n",
    "    SizeLevel.medium : {\n",
    "        ModeIndicator.numeric_mode : 12,\n",
    "        ModeIndicator.alphanumeric_mode : 11,\n",
    "        ModeIndicator.byte_mode : 16,\n",
    "        ModeIndicator.kanji_mode : 10\n",
    "    },\n",
    "    SizeLevel.large : {\n",
    "        ModeIndicator.numeric_mode : 14,\n",
    "        ModeIndicator.alphanumeric_mode : 13,\n",
    "        ModeIndicator.byte_mode : 16,\n",
    "        ModeIndicator.kanji_mode : 12\n",
    "    }\n",
    "}\n",
    "\n",
    "def get_char_counter_pad(version: int, mode: ModeIndicator):\n",
    "    return char_count_byte_length_for_version_and_mode[get_size_from_version(version)][mode]\n",
    "\n",
    "assert get_char_counter_pad(1, ModeIndicator.alphanumeric_mode) == 9\n",
    "assert get_char_counter_pad(20, ModeIndicator.byte_mode) == 16\n",
    "\n",
    "def get_char_counter_binary(length: int, version: int, mode: ModeIndicator):\n",
    "    pad = get_char_counter_pad(version, mode) # get the amount of padding needed\n",
    "    return format(length, f\">0{pad}b\")  # pad the binary to the length specified\n",
    "\n",
    "assert get_char_counter_binary(11, 1, ModeIndicator.alphanumeric_mode) == '000001011'\n",
    "assert get_char_counter_binary(100, 30, ModeIndicator.alphanumeric_mode) == '0000001100100'"
   ]
  },
  {
   "cell_type": "code",
   "execution_count": 108,
   "metadata": {},
   "outputs": [],
   "source": [
    "filepath = \"../resources/version.pickle\"\n",
    "\n",
    "with open(filepath, \"rb\") as file:\n",
    "    version_dict = pickle.load(file)\n",
    "\n",
    "# version_dict[version-1][ErrorCorrectionLevel.XX][ModeIndicator.YY.value]\n",
    "# XX: L, M, H, Q\n",
    "# YY: numeric, alphanumeric, byte, kanji\n",
    "assert version_dict[0][ErrorCorrectionLevel.M] == [34, 20, 14, 8]"
   ]
  },
  {
   "cell_type": "code",
   "execution_count": 109,
   "metadata": {},
   "outputs": [],
   "source": [
    "def get_minimum_version(character_length: int, mode: ModeIndicator, error_correction_level: ErrorCorrectionLevel, minimum_version:int=1) -> int:\n",
    "    \"\"\" get the minumum version (equivalent to the size of the qr code) for the specified mode and error correction level\n",
    "    \"\"\"\n",
    "    for index, version in enumerate(version_dict):\n",
    "        length_in_version = version[error_correction_level][mode.value]\n",
    "        if length_in_version >= character_length:\n",
    "            return max(index+1, minimum_version)\n",
    "\n",
    "    raise Exception(\"too much data, can't fit inside QR-Code\")\n",
    "\n",
    "assert get_minimum_version(20, ModeIndicator.alphanumeric_mode, ErrorCorrectionLevel.M, minimum_version=10) == 10\n",
    "assert get_minimum_version(2000, ModeIndicator.alphanumeric_mode, ErrorCorrectionLevel.L) == 27\n",
    "assert get_minimum_version(2000, ModeIndicator.numeric_mode, ErrorCorrectionLevel.Q, minimum_version=26) == 28\n",
    "assert get_minimum_version(2000, ModeIndicator.byte_mode, ErrorCorrectionLevel.L) == 33\n",
    "assert get_minimum_version(7089, ModeIndicator.numeric_mode, ErrorCorrectionLevel.L) == 40 # biggest numeric possible"
   ]
  },
  {
   "cell_type": "code",
   "execution_count": 110,
   "metadata": {},
   "outputs": [],
   "source": [
    "digits = \"0123456789\" # only digits\n",
    "alphanumeric = \"0123456789ABCDEFGHIJKLMNOPQRSTUVWXYZ $%*+-./:\" # digits, cap_alphabet, space, $, %, *, +, -, ., /, :\n",
    "\n",
    "def get_val_for_char(char):\n",
    "    return alphanumeric.find(char)\n",
    "\n",
    "assert get_val_for_char('A') == 10\n",
    "assert get_val_for_char(':') == 44\n",
    "\n",
    "def get_char_for_val(val):\n",
    "    return alphanumeric[val]\n",
    "\n",
    "assert get_char_for_val(10) == 'A'\n",
    "assert get_char_for_val(44) == ':'"
   ]
  },
  {
   "cell_type": "code",
   "execution_count": 111,
   "metadata": {},
   "outputs": [],
   "source": [
    "def get_mode(data):\n",
    "    if set(data).issubset(digits): # or use re.match\n",
    "        return ModeIndicator.numeric_mode\n",
    "    elif set(data).issubset(alphanumeric):\n",
    "        return ModeIndicator.alphanumeric_mode\n",
    "    # elif # kanji\n",
    "    #     print(\"use kanji mode\")\n",
    "        # mode_indicator = ModeIndicator.kanji_mode\n",
    "    else:\n",
    "        return ModeIndicator.byte_mode\n",
    "\n",
    "assert get_mode(\"12434\") == ModeIndicator.numeric_mode\n",
    "assert get_mode(\"HELLO WORLD*+-123\") == ModeIndicator.alphanumeric_mode\n",
    "assert get_mode(\"324kjdsfSFJ!\") == ModeIndicator.byte_mode\n",
    "\n",
    "# not implemented:\n",
    "#   - Extended Channel Interpretation (ECI) mode\n",
    "#   - Structured Append mode\n",
    "#   - FNC1 mode"
   ]
  },
  {
   "cell_type": "code",
   "execution_count": 112,
   "metadata": {},
   "outputs": [],
   "source": [
    "# https://www.thonky.com/qr-code-tutorial/alphanumeric-mode-encoding\n",
    "def encode_alphanumeric(data: str) -> str:\n",
    "    encoded_data = \"\"\n",
    "    pairs = [data[i:i+2] for i in range(0, len(data), 2)]\n",
    "    \n",
    "    for pair in pairs:\n",
    "        if len(pair) == 1:\n",
    "            val = get_val_for_char(pair)\n",
    "            encoded_data += format(val, \">06b\")\n",
    "            break\n",
    "        \n",
    "        val1 = get_val_for_char(pair[0])\n",
    "        val2 = get_val_for_char(pair[1])\n",
    "        pair_val = (45*val1)+val2\n",
    "\n",
    "        encoded_data += format(pair_val, \">011b\")\n",
    "    return encoded_data\n",
    "\n",
    "assert encode_alphanumeric(\"HELLO WORLD\") == '0110000101101111000110100010111001011011100010011010100001101'\n",
    "\n",
    "\n",
    "# https://www.thonky.com/qr-code-tutorial/numeric-mode-encoding\n",
    "def encode_numeric(data: str) -> str:\n",
    "    encoded_data = \"\"\n",
    "    pairs = [data[i:i+3] for i in range(0, len(data), 3)]\n",
    "\n",
    "    for pair in pairs:\n",
    "        if len(pair) == 1 or pair[0:2] == \"00\":\n",
    "            encoded_data += format(int(pair), \">04b\")\n",
    "        elif len(pair) == 2 or pair[0] == \"0\":\n",
    "            encoded_data += format(int(pair), \">07b\")\n",
    "        elif len(pair) == 3:\n",
    "            encoded_data += format(int(pair), \">010b\")\n",
    "    return encoded_data\n",
    "\n",
    "assert encode_numeric(\"8675309\") == '110110001110000100101001'\n",
    "\n",
    "\n",
    "# https://www.thonky.com/qr-code-tutorial/byte-mode-encoding\n",
    "def encode_byte(data: str) -> str:\n",
    "    data_bytes = data.encode(\"ISO 8859-1\") # iso 8859 latin-1 (Western europe)\n",
    "    # data_bytes = data.encode(\"UTF-8\")\n",
    "\n",
    "    encoded_data = \"\".join(format(byte, \"0>8b\") for byte in data_bytes)\n",
    "    return encoded_data\n",
    "\n",
    "assert encode_byte(\"Hello, world!\") == '01001000011001010110110001101100011011110010110000100000011101110110111101110010011011000110010000100001'\n",
    "\n",
    "\n",
    "# https://www.thonky.com/qr-code-tutorial/kanji-mode-encoding\n",
    "def encode_kanji(data):\n",
    "    raise NotImplementedError\n",
    "\n",
    "def encode_data(data, mode):\n",
    "    if mode == ModeIndicator.numeric_mode:\n",
    "        return encode_numeric(data)\n",
    "    elif mode == ModeIndicator.alphanumeric_mode:\n",
    "        return encode_alphanumeric(data)\n",
    "    elif mode == ModeIndicator.byte_mode:\n",
    "        return encode_byte(data)\n",
    "    elif mode == ModeIndicator.kanji_mode:\n",
    "        return encode_kanji(data)"
   ]
  },
  {
   "cell_type": "code",
   "execution_count": 113,
   "metadata": {},
   "outputs": [],
   "source": [
    "filepath = \"../resources/error_correction_table.pickle\"\n",
    "\n",
    "with open(filepath, \"rb\") as file:\n",
    "    error_correction_dict = pickle.load(file)\n",
    "\n",
    "# error_correction_dict[(version, ErrorCorrectionLevel)][XX]\n",
    "# XX: Total Number of Data Codewords, EC Codewords Per Block, Number of Blocks in Group 1, \n",
    "#     Number of Data Codewords in Each of Group 1's Blocks, Number of Blocks in Group 2, Number of Data Codewords in Each of Group 2's Blocks\n",
    "\n",
    "assert error_correction_dict[(40, ErrorCorrectionLevel.H)] == (1276, 30, 20, 15, 61, 16)"
   ]
  },
  {
   "cell_type": "code",
   "execution_count": 114,
   "metadata": {},
   "outputs": [],
   "source": [
    "def get_total_codewords(version: int, error_correction_level: ErrorCorrectionLevel) -> int:\n",
    "    return error_correction_dict[(version, error_correction_level)][0]\n",
    "\n",
    "assert get_total_codewords(1, ErrorCorrectionLevel.Q) == 13\n",
    "assert get_total_codewords(40, ErrorCorrectionLevel.H) == 1276\n",
    "\n",
    "def get_data_bits_required(version: int, error_correction_level: ErrorCorrectionLevel) -> int:\n",
    "    return error_correction_dict[(version, error_correction_level)][0]*8\n",
    "\n",
    "assert get_data_bits_required(20, ErrorCorrectionLevel.H) == 3080\n",
    "assert get_data_bits_required(1, ErrorCorrectionLevel.Q) == 104"
   ]
  },
  {
   "cell_type": "code",
   "execution_count": 115,
   "metadata": {},
   "outputs": [],
   "source": [
    "def get_blocks_per_group(version: int, error_correction_level: ErrorCorrectionLevel) -> List[int]:\n",
    "    error_correction_info = error_correction_dict[(version, error_correction_level)]\n",
    "    return [error_correction_info[2], error_correction_info[4]]\n",
    "\n",
    "assert get_blocks_per_group(1, ErrorCorrectionLevel.Q) == [1, 0]\n",
    "assert get_blocks_per_group(5, ErrorCorrectionLevel.Q) == [2, 2]\n",
    "assert get_blocks_per_group(40, ErrorCorrectionLevel.L) == [19, 6]\n",
    "assert get_blocks_per_group(33, ErrorCorrectionLevel.M) == [14, 21]"
   ]
  },
  {
   "cell_type": "code",
   "execution_count": 116,
   "metadata": {},
   "outputs": [],
   "source": [
    "def get_codewords_per_block(version: int, error_correction_level: ErrorCorrectionLevel) -> List[int]:\n",
    "    error_correction_info = error_correction_dict[(version, error_correction_level)]\n",
    "    return [error_correction_info[3], error_correction_info[5]]\n",
    "\n",
    "assert get_codewords_per_block(1, ErrorCorrectionLevel.Q) == [13, 0]\n",
    "assert get_codewords_per_block(5, ErrorCorrectionLevel.Q) == [15, 16]\n",
    "assert get_codewords_per_block(40, ErrorCorrectionLevel.L) == [118, 119]\n",
    "assert get_codewords_per_block(33, ErrorCorrectionLevel.M) == [46, 47]"
   ]
  },
  {
   "cell_type": "code",
   "execution_count": 117,
   "metadata": {},
   "outputs": [],
   "source": [
    "def add_terminator(total_bit_string: str, total_data_bits_required: int) -> int:\n",
    "    \"\"\" returns the total bit string with the terminator appended\n",
    "    \"\"\"\n",
    "    diffrence = total_data_bits_required - len(total_bit_string)\n",
    "    terminator_length = min(4, diffrence)\n",
    "    return total_bit_string + \"0\" * terminator_length\n",
    "\n",
    "assert add_terminator('00100000010110110000101101111000110100010111001011011100010011010100001101', 104) == \"001000000101101100001011011110001101000101110010110111000100110101000011010000\"\n",
    "# assert add_terminator('01000000000101100001', 104) == \"010000000001011000010000\""
   ]
  },
  {
   "cell_type": "code",
   "execution_count": 118,
   "metadata": {},
   "outputs": [],
   "source": [
    "def add_padding(total_bit_string: str) -> str:\n",
    "    pad_length = 8-len(total_bit_string)%8\n",
    "    return  total_bit_string + \"0\" * pad_length\n",
    "\n",
    "assert add_padding(\"001000000101101100001011011110001101000101110010110111000100110101000011010000\") == \"00100000010110110000101101111000110100010111001011011100010011010100001101000000\""
   ]
  },
  {
   "cell_type": "code",
   "execution_count": 119,
   "metadata": {},
   "outputs": [],
   "source": [
    "def fill_with_pad_bytes(total_bit_string: str, total_data_bits_required: int) -> str:\n",
    "    \"\"\" fill the total_bit_string with the pad_bytes, alternating\n",
    "    \"\"\"\n",
    "    pad_byte1, pad_byte2 = \"11101100\", \"00010001\"\n",
    "\n",
    "    while len(total_bit_string) < total_data_bits_required:\n",
    "        total_bit_string += pad_byte1\n",
    "        pad_byte1, pad_byte2 = pad_byte2, pad_byte1\n",
    "\n",
    "    return total_bit_string\n",
    "\n",
    "assert len(fill_with_pad_bytes(\"00100000010110110000101101111000110100010111001011011100010011010100001101000000\", 104)) == 104\n",
    "assert fill_with_pad_bytes(\"00100000010110110000101101111000110100010111001011011100010011010100001101000000\", 104) == \"00100000010110110000101101111000110100010111001011011100010011010100001101000000111011000001000111101100\""
   ]
  },
  {
   "cell_type": "code",
   "execution_count": 120,
   "metadata": {},
   "outputs": [],
   "source": [
    "def split_string_into_chunks(string, chunk_size=8):\n",
    "    \"\"\" split a string into evenly sized chunks\n",
    "    \"\"\"\n",
    "    return [string[index:(index+chunk_size)] for index in range(0, len(string), chunk_size)]"
   ]
  },
  {
   "cell_type": "code",
   "execution_count": 121,
   "metadata": {},
   "outputs": [],
   "source": [
    "def split_in_groups(codewords: List[str], num_of_blocks_per_group: int, num_of_codewords_per_block: int) -> List[List[List[str]]]:\n",
    "    \"\"\"\n",
    "    The codewords need to be sorted into 2 Groups, each containing x and y block respectivly\n",
    "    In Group 1 each Block contains n codewords, in Group 2 each block contains m codewords\n",
    "\n",
    "    The codewords need to be sorted into 2 Groups, each containing 'num_of_blocks_per_group[0]' and 'num_of_blocks_per_group[1]' blocks respectivly\n",
    "    In Group 1 each Block contains 'num_of_codewords_per_block[0]' codewords, in Group 2 each block contains 'num_of_codewords_per_block[1]' codewords\n",
    "    \n",
    "    Group 1                 | Group 2\n",
    "    Block 1 ... Block x     | Block 1 ... Block y\n",
    "    n or m number of codewords per block\n",
    "    \"\"\"\n",
    "    groups = []\n",
    "    for group_index in range(2):\n",
    "        group_offset = group_index*num_of_blocks_per_group[0]*num_of_codewords_per_block[0]\n",
    "        group = []\n",
    "\n",
    "        for block_index in range(num_of_blocks_per_group[group_index]):\n",
    "            block_offset = block_index*num_of_codewords_per_block[group_index]\n",
    "            \n",
    "            block = [codewords[group_offset + block_offset + codeword_index_in_block] for codeword_index_in_block in range(num_of_codewords_per_block[group_index])]\n",
    "            group.append(block)\n",
    "        groups.append(group)\n",
    "\n",
    "    return groups"
   ]
  },
  {
   "cell_type": "code",
   "execution_count": 122,
   "metadata": {},
   "outputs": [],
   "source": [
    "data = \"HELLO WORLD\"\n",
    "error_correction_level = ErrorCorrectionLevel.Q\n",
    "mode = get_mode(data)\n",
    "version = get_minimum_version(len(data), mode, error_correction_level)\n",
    "# version = 5\n",
    "\n",
    "mode_indicator = mode_indicator_mapping[mode]\n",
    "character_count_indicator = get_char_counter_binary(len(data), version, mode)\n",
    "encoded_data = encode_data(data, mode)\n",
    "total_data_bits_required = get_total_codewords(version, error_correction_level)*8\n",
    "\n",
    "total_bit_string = mode_indicator + character_count_indicator + encoded_data\n",
    "total_bit_string = add_terminator(total_bit_string, total_data_bits_required)\n",
    "total_bit_string = add_padding(total_bit_string)\n",
    "# assert total_bit_string == \"00100000010110110000101101111000110100010111001011011100010011010100001101000000\"\n",
    "total_bit_string = fill_with_pad_bytes(total_bit_string, total_data_bits_required)\n",
    "assert total_bit_string == \"00100000010110110000101101111000110100010111001011011100010011010100001101000000111011000001000111101100\""
   ]
  },
  {
   "cell_type": "code",
   "execution_count": 123,
   "metadata": {},
   "outputs": [
    {
     "name": "stdout",
     "output_type": "stream",
     "text": [
      "data='HELLO WORLD', len(data)=11, error_correction_level.name='Q', mode.name='alphanumeric_mode', version=1\n",
      "mode_indicator='0010'\n",
      "character_count_indicator='000001011'\n",
      "encoded_data='0110000101101111000110100010111001011011100010011010100001101'\n",
      "total_data_bits_required=104\n",
      "total_bit_string='00100000010110110000101101111000110100010111001011011100010011010100001101000000111011000001000111101100', len(total_bit_string)=104\n"
     ]
    }
   ],
   "source": [
    "print(f\"{data=}, {len(data)=}, {error_correction_level.name=}, {mode.name=}, {version=}\")\n",
    "print(f\"{mode_indicator=}\")\n",
    "print(f\"{character_count_indicator=}\")\n",
    "print(f\"{encoded_data=}\")\n",
    "print(f\"{total_data_bits_required=}\")\n",
    "print(f\"{total_bit_string=}, {len(total_bit_string)=}\")"
   ]
  },
  {
   "cell_type": "code",
   "execution_count": 124,
   "metadata": {},
   "outputs": [],
   "source": [
    "# groups and blocks\n",
    "\n",
    "num_of_blocks_per_group = get_blocks_per_group(version, error_correction_level)\n",
    "num_of_codewords_per_block = get_codewords_per_block(version, error_correction_level)\n",
    "total_codewords = get_total_codewords(version, error_correction_level)\n",
    "\n",
    "# codewords is the total_bit_string as chunks of bytes\n",
    "codewords = split_string_into_chunks(total_bit_string, 8)\n",
    "assert all(len(codeword) == 8 for codeword in codewords)\n",
    "# print(codewords)\n",
    "\n",
    "groups = split_in_groups(codewords, num_of_blocks_per_group, num_of_codewords_per_block)"
   ]
  },
  {
   "cell_type": "code",
   "execution_count": 125,
   "metadata": {},
   "outputs": [
    {
     "name": "stdout",
     "output_type": "stream",
     "text": [
      "num_of_blocks_per_group=[1, 0]\n",
      "num_of_codewords_per_block=[13, 0]\n",
      "total_codewords=13\n",
      "[[['00100000', '01011011', '00001011', '01111000', '11010001', '01110010', '11011100', '01001101', '01000011', '01000000', '11101100', '00010001', '11101100']], []]\n"
     ]
    }
   ],
   "source": [
    "print(f\"{num_of_blocks_per_group=}\")\n",
    "print(f\"{num_of_codewords_per_block=}\")\n",
    "print(f\"{total_codewords=}\")\n",
    "print(groups)"
   ]
  },
  {
   "cell_type": "code",
   "execution_count": 126,
   "metadata": {},
   "outputs": [],
   "source": [
    "# test with a Q-5 qr code\n",
    "test_Q5_total_bit_string = \"0100001101010101010001101000011001010111001001100101010111000010011101110011001000000110000100100000011001100111001001101111011011110110010000100000011101110110100001101111001000000111001001100101011000010110110001101100011110010010000001101011011011100110111101110111011100110010000001110111011010000110010101110010011001010010000001101000011010010111001100100000011101000110111101110111011001010110110000100000011010010111001100101110000011101100000100011110110000010001111011000001000111101100\"\n",
    "test_Q5_version = 5\n",
    "test_Q5_error_correction_level = ErrorCorrectionLevel.Q\n",
    "test_Q5_result = [[['01000011', '01010101', '01000110', '10000110', '01010111', '00100110', '01010101', '11000010', '01110111', '00110010', '00000110', '00010010', '00000110', '01100111', '00100110'], ['11110110', '11110110', '01000010', '00000111', '01110110', '10000110', '11110010', '00000111', '00100110', '01010110', '00010110', '11000110', '11000111', '10010010', '00000110']], [['10110110', '11100110', '11110111', '01110111', '00110010', '00000111', '01110110', '10000110', '01010111', '00100110', '01010010', '00000110', '10000110', '10010111', '00110010', '00000111'], ['01000110', '11110111', '01110110', '01010110', '11000010', '00000110', '10010111', '00110010', '11100000', '11101100', '00010001', '11101100', '00010001', '11101100', '00010001', '11101100']]]\n",
    "\n",
    "test_Q5_num_of_blocks_per_group = get_blocks_per_group(test_Q5_version, test_Q5_error_correction_level)\n",
    "test_Q5_num_of_codewords_per_block = get_codewords_per_block(test_Q5_version, test_Q5_error_correction_level)\n",
    "test_Q5_total_codewords = get_total_codewords(test_Q5_version, test_Q5_error_correction_level)\n",
    "\n",
    "test_Q5_codewords = split_string_into_chunks(test_Q5_total_bit_string, 8)\n",
    "assert all(len(test_Q5_codeword) == 8 for test_Q5_codeword in test_Q5_codewords)\n",
    "\n",
    "test_Q5_groups = split_in_groups(test_Q5_codewords, test_Q5_num_of_blocks_per_group, test_Q5_num_of_codewords_per_block)\n",
    "assert test_Q5_groups == test_Q5_result"
   ]
  }
 ],
 "metadata": {
  "kernelspec": {
   "display_name": "Python 3",
   "language": "python",
   "name": "python3"
  },
  "language_info": {
   "codemirror_mode": {
    "name": "ipython",
    "version": 3
   },
   "file_extension": ".py",
   "mimetype": "text/x-python",
   "name": "python",
   "nbconvert_exporter": "python",
   "pygments_lexer": "ipython3",
   "version": "3.9.0"
  },
  "orig_nbformat": 4,
  "vscode": {
   "interpreter": {
    "hash": "11938c6bc6919ae2720b4d5011047913343b08a43b18698fd82dedb0d4417594"
   }
  }
 },
 "nbformat": 4,
 "nbformat_minor": 2
}
