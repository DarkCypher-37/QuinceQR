{
 "cells": [
  {
   "cell_type": "code",
   "execution_count": 51,
   "metadata": {},
   "outputs": [],
   "source": [
    "import qrcode\n",
    "import pickle\n",
    "import numpy as np\n",
    "import itertools\n",
    "\n",
    "from enum import Enum, auto\n",
    "from typing import List\n",
    "\n",
    "from scripts.GF256_Number import GF256_Number"
   ]
  },
  {
   "cell_type": "code",
   "execution_count": 52,
   "metadata": {},
   "outputs": [
    {
     "data": {
      "image/png": "[encoded data removed]",
      "text/plain": [
       "<qrcode.image.pil.PilImage at 0x1f1b089feb0>"
      ]
     },
     "execution_count": 52,
     "metadata": {},
     "output_type": "execute_result"
    }
   ],
   "source": [
    "qr = qrcode.QRCode(error_correction=qrcode.ERROR_CORRECT_Q)\n",
    "qr.add_data(\"0\"*2000)\n",
    "# qr.version = 2\n",
    "qr.make_image()\n",
    "# qr.add_data(\"9\"*20)\n",
    "# qr.best_fit()"
   ]
  },
  {
   "cell_type": "code",
   "execution_count": 53,
   "metadata": {},
   "outputs": [],
   "source": [
    "# class ModeIndicator(Enum):\n",
    "#     numeric_mode = 0b0001\n",
    "#     alphanumeric_mode = 0b0010\n",
    "#     byte_mode = 0b0100\n",
    "#     kanji_mode = 0b1000\n",
    "#     ECI_mode = 0b0111\n",
    "\n",
    "# mode_indicator_mapping = {0b0001:0, 0b0010: 1, 0b0100:2, 0b1000:3}\n",
    "\n",
    "class ModeIndicator(Enum):\n",
    "    numeric_mode = 0\n",
    "    alphanumeric_mode = 1\n",
    "    byte_mode = 2\n",
    "    kanji_mode = 3\n",
    "    # ECI_mode = auto()\n",
    "\n",
    "mode_indicator_mapping = {\n",
    "    ModeIndicator.numeric_mode: \"0001\", \n",
    "    ModeIndicator.alphanumeric_mode: \"0010\", \n",
    "    ModeIndicator.byte_mode: \"0100\", \n",
    "    ModeIndicator.kanji_mode: \"1000\"\n",
    "}\n",
    "\n",
    "class ErrorCorrectionLevel(Enum):\n",
    "    L = 1\n",
    "    M = 2\n",
    "    Q = 3\n",
    "    H = 4\n",
    "\n",
    "class SizeLevel(Enum):\n",
    "    small = auto()\n",
    "    medium = auto()\n",
    "    large = auto()\n",
    "\n",
    "assert mode_indicator_mapping[ModeIndicator.numeric_mode] == \"0001\"\n",
    "assert mode_indicator_mapping[ModeIndicator.alphanumeric_mode] == \"0010\"\n",
    "assert mode_indicator_mapping[ModeIndicator.byte_mode] == \"0100\"\n",
    "assert mode_indicator_mapping[ModeIndicator.kanji_mode] == \"1000\""
   ]
  },
  {
   "cell_type": "code",
   "execution_count": 54,
   "metadata": {},
   "outputs": [],
   "source": [
    "# size_level\n",
    "#   Small: 1 to 9\n",
    "#   Medium: 10 to 26\n",
    "#   Large: 27 to 40\n",
    "\n",
    "def get_size_from_version(version: int) -> str:\n",
    "    if not 0 < version < 41:\n",
    "        raise ValueError(f\"the specified version is not between 1 through 40 (inclusive): {version}\")\n",
    "    if 1 <= version <= 9:\n",
    "        return SizeLevel.small\n",
    "    if 10 <= version <= 26:\n",
    "        return SizeLevel.medium\n",
    "    if 27 <= version <= 40:\n",
    "        return SizeLevel.large\n",
    "\n",
    "assert get_size_from_version(5) == SizeLevel.small\n",
    "assert get_size_from_version(9) == SizeLevel.small\n",
    "assert get_size_from_version(26) == SizeLevel.medium\n",
    "assert get_size_from_version(40) == SizeLevel.large"
   ]
  },
  {
   "cell_type": "code",
   "execution_count": 55,
   "metadata": {},
   "outputs": [],
   "source": [
    "char_count_byte_length_for_version_and_mode = {\n",
    "    SizeLevel.small : {\n",
    "        ModeIndicator.numeric_mode : 10,\n",
    "        ModeIndicator.alphanumeric_mode : 9,\n",
    "        ModeIndicator.byte_mode : 8,\n",
    "        ModeIndicator.kanji_mode : 8\n",
    "    },\n",
    "    SizeLevel.medium : {\n",
    "        ModeIndicator.numeric_mode : 12,\n",
    "        ModeIndicator.alphanumeric_mode : 11,\n",
    "        ModeIndicator.byte_mode : 16,\n",
    "        ModeIndicator.kanji_mode : 10\n",
    "    },\n",
    "    SizeLevel.large : {\n",
    "        ModeIndicator.numeric_mode : 14,\n",
    "        ModeIndicator.alphanumeric_mode : 13,\n",
    "        ModeIndicator.byte_mode : 16,\n",
    "        ModeIndicator.kanji_mode : 12\n",
    "    }\n",
    "}\n",
    "\n",
    "def get_char_counter_pad(version: int, mode: ModeIndicator):\n",
    "    return char_count_byte_length_for_version_and_mode[get_size_from_version(version)][mode]\n",
    "\n",
    "assert get_char_counter_pad(1, ModeIndicator.alphanumeric_mode) == 9\n",
    "assert get_char_counter_pad(20, ModeIndicator.byte_mode) == 16\n",
    "\n",
    "def get_char_counter_binary(length: int, version: int, mode: ModeIndicator):\n",
    "    pad = get_char_counter_pad(version, mode) # get the amount of padding needed\n",
    "    return format(length, f\">0{pad}b\")  # pad the binary to the length specified\n",
    "\n",
    "assert get_char_counter_binary(11, 1, ModeIndicator.alphanumeric_mode) == '000001011'\n",
    "assert get_char_counter_binary(100, 30, ModeIndicator.alphanumeric_mode) == '0000001100100'"
   ]
  },
  {
   "cell_type": "code",
   "execution_count": 56,
   "metadata": {},
   "outputs": [],
   "source": [
    "filepath = \"../resources/version.pickle\"\n",
    "\n",
    "with open(filepath, \"rb\") as file:\n",
    "    version_dict = pickle.load(file)\n",
    "\n",
    "# version_dict[version-1][ErrorCorrectionLevel.XX][ModeIndicator.YY.value]\n",
    "# XX: L, M, H, Q\n",
    "# YY: numeric, alphanumeric, byte, kanji\n",
    "assert version_dict[0][ErrorCorrectionLevel.M] == [34, 20, 14, 8]"
   ]
  },
  {
   "cell_type": "code",
   "execution_count": 57,
   "metadata": {},
   "outputs": [],
   "source": [
    "def get_minimum_version(character_length: int, mode: ModeIndicator, error_correction_level: ErrorCorrectionLevel, minimum_version:int=1) -> int:\n",
    "    \"\"\" get the minumum version (equivalent to the size of the qr code) for the specified mode and error correction level\n",
    "    \"\"\"\n",
    "    for index, version in enumerate(version_dict):\n",
    "        length_in_version = version[error_correction_level][mode.value]\n",
    "        if length_in_version >= character_length:\n",
    "            return max(index+1, minimum_version)\n",
    "\n",
    "    raise Exception(\"too much data, can't fit inside QR-Code\")\n",
    "\n",
    "assert get_minimum_version(20, ModeIndicator.alphanumeric_mode, ErrorCorrectionLevel.M, minimum_version=10) == 10\n",
    "assert get_minimum_version(2000, ModeIndicator.alphanumeric_mode, ErrorCorrectionLevel.L) == 27\n",
    "assert get_minimum_version(2000, ModeIndicator.numeric_mode, ErrorCorrectionLevel.Q, minimum_version=26) == 28\n",
    "assert get_minimum_version(2000, ModeIndicator.byte_mode, ErrorCorrectionLevel.L) == 33\n",
    "assert get_minimum_version(7089, ModeIndicator.numeric_mode, ErrorCorrectionLevel.L) == 40 # biggest numeric possible"
   ]
  },
  {
   "cell_type": "code",
   "execution_count": 58,
   "metadata": {},
   "outputs": [],
   "source": [
    "digits = \"0123456789\" # only digits\n",
    "alphanumeric = \"0123456789ABCDEFGHIJKLMNOPQRSTUVWXYZ $%*+-./:\" # digits, cap_alphabet, space, $, %, *, +, -, ., /, :\n",
    "\n",
    "def get_val_for_char(char):\n",
    "    return alphanumeric.find(char)\n",
    "\n",
    "assert get_val_for_char('A') == 10\n",
    "assert get_val_for_char(':') == 44\n",
    "\n",
    "def get_char_for_val(val):\n",
    "    return alphanumeric[val]\n",
    "\n",
    "assert get_char_for_val(10) == 'A'\n",
    "assert get_char_for_val(44) == ':'"
   ]
  },
  {
   "cell_type": "code",
   "execution_count": 59,
   "metadata": {},
   "outputs": [],
   "source": [
    "def get_mode(data):\n",
    "    if set(data).issubset(digits): # or use re.match\n",
    "        return ModeIndicator.numeric_mode\n",
    "    elif set(data).issubset(alphanumeric):\n",
    "        return ModeIndicator.alphanumeric_mode\n",
    "    # elif # kanji\n",
    "    #     print(\"use kanji mode\")\n",
    "        # mode_indicator = ModeIndicator.kanji_mode\n",
    "    else:\n",
    "        return ModeIndicator.byte_mode\n",
    "\n",
    "assert get_mode(\"12434\") == ModeIndicator.numeric_mode\n",
    "assert get_mode(\"HELLO WORLD*+-123\") == ModeIndicator.alphanumeric_mode\n",
    "assert get_mode(\"324kjdsfSFJ!\") == ModeIndicator.byte_mode\n",
    "\n",
    "# not implemented:\n",
    "#   - Extended Channel Interpretation (ECI) mode\n",
    "#   - Structured Append mode\n",
    "#   - FNC1 mode"
   ]
  },
  {
   "cell_type": "code",
   "execution_count": 60,
   "metadata": {},
   "outputs": [],
   "source": [
    "# https://www.thonky.com/qr-code-tutorial/alphanumeric-mode-encoding\n",
    "def encode_alphanumeric(data: str) -> str:\n",
    "    encoded_data = \"\"\n",
    "    pairs = [data[i:i+2] for i in range(0, len(data), 2)]\n",
    "    \n",
    "    for pair in pairs:\n",
    "        if len(pair) == 1:\n",
    "            val = get_val_for_char(pair)\n",
    "            encoded_data += format(val, \">06b\")\n",
    "            break\n",
    "        \n",
    "        val1 = get_val_for_char(pair[0])\n",
    "        val2 = get_val_for_char(pair[1])\n",
    "        pair_val = (45*val1)+val2\n",
    "\n",
    "        encoded_data += format(pair_val, \">011b\")\n",
    "    return encoded_data\n",
    "\n",
    "assert encode_alphanumeric(\"HELLO WORLD\") == '0110000101101111000110100010111001011011100010011010100001101'\n",
    "\n",
    "\n",
    "# https://www.thonky.com/qr-code-tutorial/numeric-mode-encoding\n",
    "def encode_numeric(data: str) -> str:\n",
    "    encoded_data = \"\"\n",
    "    pairs = [data[i:i+3] for i in range(0, len(data), 3)]\n",
    "\n",
    "    for pair in pairs:\n",
    "        if len(pair) == 1 or pair[0:2] == \"00\":\n",
    "            encoded_data += format(int(pair), \">04b\")\n",
    "        elif len(pair) == 2 or pair[0] == \"0\":\n",
    "            encoded_data += format(int(pair), \">07b\")\n",
    "        elif len(pair) == 3:\n",
    "            encoded_data += format(int(pair), \">010b\")\n",
    "    return encoded_data\n",
    "\n",
    "assert encode_numeric(\"8675309\") == '110110001110000100101001'\n",
    "\n",
    "\n",
    "# https://www.thonky.com/qr-code-tutorial/byte-mode-encoding\n",
    "def encode_byte(data: str) -> str:\n",
    "    data_bytes = data.encode(\"ISO 8859-1\") # iso 8859 latin-1 (Western europe)\n",
    "    # data_bytes = data.encode(\"UTF-8\")\n",
    "\n",
    "    encoded_data = \"\".join(format(byte, \"0>8b\") for byte in data_bytes)\n",
    "    return encoded_data\n",
    "\n",
    "assert encode_byte(\"Hello, world!\") == '01001000011001010110110001101100011011110010110000100000011101110110111101110010011011000110010000100001'\n",
    "\n",
    "\n",
    "# https://www.thonky.com/qr-code-tutorial/kanji-mode-encoding\n",
    "def encode_kanji(data):\n",
    "    raise NotImplementedError\n",
    "\n",
    "def encode_data(data, mode):\n",
    "    if mode == ModeIndicator.numeric_mode:\n",
    "        return encode_numeric(data)\n",
    "    elif mode == ModeIndicator.alphanumeric_mode:\n",
    "        return encode_alphanumeric(data)\n",
    "    elif mode == ModeIndicator.byte_mode:\n",
    "        return encode_byte(data)\n",
    "    elif mode == ModeIndicator.kanji_mode:\n",
    "        return encode_kanji(data)"
   ]
  },
  {
   "cell_type": "code",
   "execution_count": 61,
   "metadata": {},
   "outputs": [],
   "source": [
    "filepath = \"../resources/error_correction_table.pickle\"\n",
    "\n",
    "with open(filepath, \"rb\") as file:\n",
    "    error_correction_dict = pickle.load(file)\n",
    "\n",
    "# error_correction_dict[(version, ErrorCorrectionLevel)][XX]\n",
    "# XX: Total Number of Data Codewords, EC Codewords Per Block, Number of Blocks in Group 1, \n",
    "#     Number of Data Codewords in Each of Group 1's Blocks, Number of Blocks in Group 2, Number of Data Codewords in Each of Group 2's Blocks\n",
    "\n",
    "assert error_correction_dict[(40, ErrorCorrectionLevel.H)] == (1276, 30, 20, 15, 61, 16)"
   ]
  },
  {
   "cell_type": "code",
   "execution_count": 62,
   "metadata": {},
   "outputs": [],
   "source": [
    "def get_total_codewords(version: int, error_correction_level: ErrorCorrectionLevel) -> int:\n",
    "    return error_correction_dict[(version, error_correction_level)][0]\n",
    "\n",
    "assert get_total_codewords(1, ErrorCorrectionLevel.Q) == 13\n",
    "assert get_total_codewords(40, ErrorCorrectionLevel.H) == 1276\n",
    "\n",
    "def get_data_bits_required(version: int, error_correction_level: ErrorCorrectionLevel) -> int:\n",
    "    return error_correction_dict[(version, error_correction_level)][0]*8\n",
    "\n",
    "assert get_data_bits_required(20, ErrorCorrectionLevel.H) == 3080\n",
    "assert get_data_bits_required(1, ErrorCorrectionLevel.Q) == 104"
   ]
  },
  {
   "cell_type": "code",
   "execution_count": 63,
   "metadata": {},
   "outputs": [],
   "source": [
    "def get_blocks_per_group(version: int, error_correction_level: ErrorCorrectionLevel) -> List[int]:\n",
    "    error_correction_info = error_correction_dict[(version, error_correction_level)]\n",
    "    return [error_correction_info[2], error_correction_info[4]]\n",
    "\n",
    "assert get_blocks_per_group(1, ErrorCorrectionLevel.Q) == [1, 0]\n",
    "assert get_blocks_per_group(5, ErrorCorrectionLevel.Q) == [2, 2]\n",
    "assert get_blocks_per_group(40, ErrorCorrectionLevel.L) == [19, 6]\n",
    "assert get_blocks_per_group(33, ErrorCorrectionLevel.M) == [14, 21]"
   ]
  },
  {
   "cell_type": "code",
   "execution_count": 64,
   "metadata": {},
   "outputs": [],
   "source": [
    "def get_codewords_per_block(version: int, error_correction_level: ErrorCorrectionLevel) -> List[int]:\n",
    "    error_correction_info = error_correction_dict[(version, error_correction_level)]\n",
    "    return [error_correction_info[3], error_correction_info[5]]\n",
    "\n",
    "assert get_codewords_per_block(1, ErrorCorrectionLevel.Q) == [13, 0]\n",
    "assert get_codewords_per_block(5, ErrorCorrectionLevel.Q) == [15, 16]\n",
    "assert get_codewords_per_block(40, ErrorCorrectionLevel.L) == [118, 119]\n",
    "assert get_codewords_per_block(33, ErrorCorrectionLevel.M) == [46, 47]"
   ]
  },
  {
   "cell_type": "code",
   "execution_count": 65,
   "metadata": {},
   "outputs": [],
   "source": [
    "def add_terminator(total_bit_string: str, total_data_bits_required: int) -> int:\n",
    "    \"\"\" returns the total bit string with the terminator appended\n",
    "    \"\"\"\n",
    "    diffrence = total_data_bits_required - len(total_bit_string)\n",
    "    terminator_length = min(4, diffrence)\n",
    "    return total_bit_string + \"0\" * terminator_length\n",
    "\n",
    "assert add_terminator('00100000010110110000101101111000110100010111001011011100010011010100001101', 104) == \"001000000101101100001011011110001101000101110010110111000100110101000011010000\"\n",
    "# assert add_terminator('01000000000101100001', 104) == \"010000000001011000010000\""
   ]
  },
  {
   "cell_type": "code",
   "execution_count": 66,
   "metadata": {},
   "outputs": [],
   "source": [
    "def add_padding(total_bit_string: str) -> str:\n",
    "    pad_length = 8-len(total_bit_string)%8\n",
    "    return  total_bit_string + \"0\" * pad_length\n",
    "\n",
    "assert add_padding(\"001000000101101100001011011110001101000101110010110111000100110101000011010000\") == \"00100000010110110000101101111000110100010111001011011100010011010100001101000000\""
   ]
  },
  {
   "cell_type": "code",
   "execution_count": 67,
   "metadata": {},
   "outputs": [],
   "source": [
    "def fill_with_pad_bytes(total_bit_string: str, total_data_bits_required: int) -> str:\n",
    "    \"\"\" fill the total_bit_string with the pad_bytes, alternating\n",
    "    \"\"\"\n",
    "    pad_byte1, pad_byte2 = \"11101100\", \"00010001\"\n",
    "\n",
    "    while len(total_bit_string) < total_data_bits_required:\n",
    "        total_bit_string += pad_byte1\n",
    "        pad_byte1, pad_byte2 = pad_byte2, pad_byte1\n",
    "\n",
    "    return total_bit_string\n",
    "\n",
    "assert len(fill_with_pad_bytes(\"00100000010110110000101101111000110100010111001011011100010011010100001101000000\", 104)) == 104\n",
    "assert fill_with_pad_bytes(\"00100000010110110000101101111000110100010111001011011100010011010100001101000000\", 104) == \"00100000010110110000101101111000110100010111001011011100010011010100001101000000111011000001000111101100\""
   ]
  },
  {
   "cell_type": "code",
   "execution_count": 68,
   "metadata": {},
   "outputs": [],
   "source": [
    "def split_string_into_chunks(string, chunk_size=8):\n",
    "    \"\"\" split a string into evenly sized chunks\n",
    "    \"\"\"\n",
    "    return [string[index:(index+chunk_size)] for index in range(0, len(string), chunk_size)]"
   ]
  },
  {
   "cell_type": "code",
   "execution_count": 69,
   "metadata": {},
   "outputs": [],
   "source": [
    "def split_in_groups(codewords: List[str], num_of_blocks_per_group: int, num_of_codewords_per_block: int) -> List[List[List[str]]]:\n",
    "    \"\"\"\n",
    "    The codewords need to be sorted into 2 Groups, each containing x and y block respectivly\n",
    "    In Group 1 each Block contains n codewords, in Group 2 each block contains m codewords\n",
    "\n",
    "    The codewords need to be sorted into 2 Groups, each containing 'num_of_blocks_per_group[0]' and 'num_of_blocks_per_group[1]' blocks respectivly\n",
    "    In Group 1 each Block contains 'num_of_codewords_per_block[0]' codewords, in Group 2 each block contains 'num_of_codewords_per_block[1]' codewords\n",
    "    \n",
    "    Group 1                 | Group 2\n",
    "    Block 1 ... Block x     | Block 1 ... Block y\n",
    "    n or m number of codewords per block\n",
    "    \"\"\"\n",
    "    groups = []\n",
    "    for group_index in range(2):\n",
    "        group_offset = group_index*num_of_blocks_per_group[0]*num_of_codewords_per_block[0]\n",
    "        group = []\n",
    "\n",
    "        for block_index in range(num_of_blocks_per_group[group_index]):\n",
    "            block_offset = block_index*num_of_codewords_per_block[group_index]\n",
    "            \n",
    "            block = [codewords[group_offset + block_offset + codeword_index_in_block] for codeword_index_in_block in range(num_of_codewords_per_block[group_index])]\n",
    "            group.append(block)\n",
    "        groups.append(group)\n",
    "\n",
    "    return groups"
   ]
  },
  {
   "cell_type": "code",
   "execution_count": 70,
   "metadata": {},
   "outputs": [],
   "source": [
    "def make_total_bit_string(data: str, error_correction_level: ErrorCorrectionLevel) -> str:\n",
    "    mode = get_mode(data)\n",
    "    version = get_minimum_version(len(data), mode, error_correction_level)\n",
    "    character_count_indicator = get_char_counter_binary(len(data), version, mode)\n",
    "    encoded_data = encode_data(data, mode)\n",
    "    total_data_bits_required = get_total_codewords(version, error_correction_level)*8\n",
    "\n",
    "    total_bit_string = mode_indicator_mapping[mode] + character_count_indicator + encoded_data\n",
    "    total_bit_string = fill_with_pad_bytes(add_padding(add_terminator(total_bit_string, total_data_bits_required)), total_data_bits_required)\n",
    "    \n",
    "    return total_bit_string \n",
    "\n",
    "assert make_total_bit_string(\"HELLO WORLD\", ErrorCorrectionLevel.Q) == \"00100000010110110000101101111000110100010111001011011100010011010100001101000000111011000001000111101100\""
   ]
  },
  {
   "cell_type": "code",
   "execution_count": 71,
   "metadata": {},
   "outputs": [],
   "source": [
    "def make_groups(data: str, error_correction_level: ErrorCorrectionLevel) -> str: # just current name\n",
    "    mode = get_mode(data)\n",
    "    version = get_minimum_version(len(data), mode, error_correction_level)\n",
    "    character_count_indicator = get_char_counter_binary(len(data), version, mode)\n",
    "    encoded_data = encode_data(data, mode)\n",
    "\n",
    "    total_data_bits_required = get_total_codewords(version, error_correction_level)*8\n",
    "    num_of_blocks_per_group = get_blocks_per_group(version, error_correction_level)\n",
    "\n",
    "    num_of_codewords_per_block = get_codewords_per_block(version, error_correction_level)\n",
    "    total_codewords = get_total_codewords(version, error_correction_level)\n",
    "\n",
    "    total_bit_string = mode_indicator_mapping[mode] + character_count_indicator + encoded_data\n",
    "    total_bit_string = fill_with_pad_bytes(add_padding(add_terminator(total_bit_string, total_data_bits_required)), total_data_bits_required)\n",
    "    \n",
    "    codewords = split_string_into_chunks(total_bit_string, 8)\n",
    "\n",
    "    assert all(len(codeword) == 8 for codeword in codewords)\n",
    "\n",
    "    groups = split_in_groups(codewords, num_of_blocks_per_group, num_of_codewords_per_block)\n",
    "\n",
    "    return groups\n",
    "\n",
    "assert make_groups(\"HELLO WORLD\", ErrorCorrectionLevel.Q) == [[['00100000', '01011011', '00001011', '01111000', '11010001', '01110010', '11011100', '01001101', '01000011', '01000000', '11101100', '00010001', '11101100']], []]"
   ]
  },
  {
   "cell_type": "code",
   "execution_count": 72,
   "metadata": {},
   "outputs": [],
   "source": [
    "# test with a Q-5 qr code\n",
    "test_Q5_total_bit_string = \"0100001101010101010001101000011001010111001001100101010111000010011101110011001000000110000100100000011001100111001001101111011011110110010000100000011101110110100001101111001000000111001001100101011000010110110001101100011110010010000001101011011011100110111101110111011100110010000001110111011010000110010101110010011001010010000001101000011010010111001100100000011101000110111101110111011001010110110000100000011010010111001100101110000011101100000100011110110000010001111011000001000111101100\"\n",
    "test_Q5_version = 5\n",
    "test_Q5_error_correction_level = ErrorCorrectionLevel.Q\n",
    "test_Q5_result = [[['01000011', '01010101', '01000110', '10000110', '01010111', '00100110', '01010101', '11000010', '01110111', '00110010', '00000110', '00010010', '00000110', '01100111', '00100110'], ['11110110', '11110110', '01000010', '00000111', '01110110', '10000110', '11110010', '00000111', '00100110', '01010110', '00010110', '11000110', '11000111', '10010010', '00000110']], [['10110110', '11100110', '11110111', '01110111', '00110010', '00000111', '01110110', '10000110', '01010111', '00100110', '01010010', '00000110', '10000110', '10010111', '00110010', '00000111'], ['01000110', '11110111', '01110110', '01010110', '11000010', '00000110', '10010111', '00110010', '11100000', '11101100', '00010001', '11101100', '00010001', '11101100', '00010001', '11101100']]]\n",
    "\n",
    "test_Q5_num_of_blocks_per_group = get_blocks_per_group(test_Q5_version, test_Q5_error_correction_level)\n",
    "test_Q5_num_of_codewords_per_block = get_codewords_per_block(test_Q5_version, test_Q5_error_correction_level)\n",
    "test_Q5_total_codewords = get_total_codewords(test_Q5_version, test_Q5_error_correction_level)\n",
    "\n",
    "test_Q5_codewords = split_string_into_chunks(test_Q5_total_bit_string, 8)\n",
    "assert all(len(test_Q5_codeword) == 8 for test_Q5_codeword in test_Q5_codewords)\n",
    "\n",
    "test_Q5_groups = split_in_groups(test_Q5_codewords, test_Q5_num_of_blocks_per_group, test_Q5_num_of_codewords_per_block)\n",
    "assert test_Q5_groups == test_Q5_result"
   ]
  },
  {
   "cell_type": "code",
   "execution_count": 73,
   "metadata": {},
   "outputs": [],
   "source": [
    "# message polynomial:\n",
    "pass\n",
    "\n",
    "# generator polynomial\n",
    "generator_polynomial_length = 2\n"
   ]
  },
  {
   "cell_type": "code",
   "execution_count": 74,
   "metadata": {},
   "outputs": [
    {
     "name": "stdout",
     "output_type": "stream",
     "text": [
      "integer: 8, alpha: 3\n"
     ]
    }
   ],
   "source": [
    "g1 = GF256_Number(integer=5)\n",
    "g2 = GF256_Number(integer=13)\n",
    "print(g1 + g2)"
   ]
  },
  {
   "cell_type": "code",
   "execution_count": 75,
   "metadata": {},
   "outputs": [],
   "source": [
    "# message polynomial:\n",
    "message_polynomial = [GF256_Number(integer=32), GF256_Number(integer=91), GF256_Number(integer=11), GF256_Number(integer=120), GF256_Number(integer=209)] # ...\n",
    "\n",
    "# generator polynomial:\n",
    "generator_polynomial = [GF256_Number(integer=1), GF256_Number(integer=216), GF256_Number(integer=194), GF256_Number(integer=159), GF256_Number(integer=111)] # ..."
   ]
  },
  {
   "cell_type": "code",
   "execution_count": 76,
   "metadata": {},
   "outputs": [
    {
     "name": "stdout",
     "output_type": "stream",
     "text": [
      "[GF256(32, 5), GF256(91, 92), GF256(11, 238), GF256(120, 78), GF256(209, 161), GF256(114, 155), GF256(220, 187), GF256(77, 145), GF256(67, 98), GF256(64, 6), GF256(236, 122), GF256(17, 100), GF256(236, 122), GF256(17, 100), GF256(236, 122), GF256(17, 100)]\n",
      "[GF256(1, 0), GF256(216, 251), GF256(194, 67), GF256(159, 46), GF256(111, 61), GF256(199, 118), GF256(94, 70), GF256(95, 64), GF256(113, 94), GF256(157, 32), GF256(193, 45)]\n"
     ]
    }
   ],
   "source": [
    "# message polynomial:\n",
    "message_polynomial = [32, 91, 11, 120, 209, 114, 220, 77, 67, 64, 236, 17, 236, 17, 236, 17]\n",
    "message_polynomial = [GF256_Number(integer=element) for element in message_polynomial]\n",
    "\n",
    "# generator polynomial:\n",
    "generator_polynomial = [0, 251, 67, 46, 61, 118, 70, 64, 94, 32, 45]\n",
    "generator_polynomial = [GF256_Number(alpha=element) for element in generator_polynomial]\n",
    "\n",
    "print(message_polynomial)\n",
    "print(generator_polynomial)"
   ]
  },
  {
   "cell_type": "code",
   "execution_count": 79,
   "metadata": {},
   "outputs": [
    {
     "name": "stdout",
     "output_type": "stream",
     "text": [
      "Be careful outta there, the alpha is currently: None\n"
     ]
    },
    {
     "data": {
      "text/plain": [
       "16"
      ]
     },
     "execution_count": 79,
     "metadata": {},
     "output_type": "execute_result"
    }
   ],
   "source": [
    "list()\n",
    "len(_)"
   ]
  },
  {
   "cell_type": "code",
   "execution_count": 80,
   "metadata": {},
   "outputs": [
    {
     "name": "stdout",
     "output_type": "stream",
     "text": [
      "[GF256(32, 5), GF256(2, 1), GF256(101, 72), GF256(10, 51), GF256(97, 66), GF256(197, 123), GF256(15, 75), GF256(47, 69), GF256(134, 99), GF256(74, 37), GF256(5, 50)]\n",
      "Be careful outta there, the alpha is currently: None\n",
      "Be careful outta there, the alpha is currently: None\n",
      "\n",
      "[(GF256(32, 5), GF256(32, 5)), (GF256(91, 92), GF256(2, 1)), (GF256(11, 238), GF256(101, 72)), (GF256(120, 78), GF256(10, 51)), (GF256(209, 161), GF256(97, 66)), (GF256(114, 155), GF256(197, 123)), (GF256(220, 187), GF256(15, 75)), (GF256(77, 145), GF256(47, 69)), (GF256(67, 98), GF256(134, 99)), (GF256(64, 6), GF256(74, 37)), (GF256(236, 122), GF256(5, 50))]\n",
      "11\n",
      "\n",
      "Be careful outta there, the alpha is currently: None\n",
      "[GF256(89, 210), GF256(110, 186), GF256(114, 155), GF256(176, 242), GF256(183, 158), GF256(211, 82), GF256(98, 182), GF256(197, 123), GF256(10, 51), GF256(233, 245), GF256(17, 100), GF256(236, 122), GF256(17, 100), GF256(236, 122), GF256(17, 100)]\n"
     ]
    }
   ],
   "source": [
    "# Step 1a:\n",
    "lead_coefficient_message = message_polynomial[0]\n",
    "result_1a = [coefficent*lead_coefficient_message for coefficent in generator_polynomial]\n",
    "print(result_1a)\n",
    "\n",
    "# Step 1b:\n",
    "# result_1b = [message_coefficient + result_1a_coefficient for message_coefficient, result_1a_coefficient in zip(message_polynomial, result_1a)]\n",
    "result_1b = [message_coefficient + result_1a_coefficient for message_coefficient, result_1a_coefficient in itertools.zip_longest(message_polynomial, result_1a, fillvalue=GF256_Number(integer=0))]\n",
    "\n",
    "print()\n",
    "print(list(zip(message_polynomial, result_1a)))\n",
    "print(len(list(zip(message_polynomial, result_1a))))\n",
    "print()\n",
    "\n",
    "assert result_1b[0] == GF256_Number(integer=0), \"i think the firt element of result_1b should be integer=0\"\n",
    "\n",
    "result_1b = result_1b[1:] # TODO: this might cause problems as the size of the result will continue to decrease\n",
    "print(result_1b)"
   ]
  },
  {
   "cell_type": "code",
   "execution_count": 84,
   "metadata": {},
   "outputs": [
    {
     "name": "stdout",
     "output_type": "stream",
     "text": [
      "[GF256(32, 5), GF256(91, 92), GF256(11, 238), GF256(120, 78), GF256(209, 161), GF256(114, 155), GF256(220, 187), GF256(77, 145), GF256(67, 98), GF256(64, 6), GF256(236, 122), GF256(17, 100), GF256(236, 122), GF256(17, 100), GF256(236, 122), GF256(17, 100)]\n",
      "Be careful outta there, the alpha is currently: None\n",
      "Be careful outta there, the alpha is currently: None\n",
      "Be careful outta there, the alpha is currently: None\n",
      "[GF256(89, 210), GF256(110, 186), GF256(114, 155), GF256(176, 242), GF256(183, 158), GF256(211, 82), GF256(98, 182), GF256(197, 123), GF256(10, 51), GF256(233, 245), GF256(17, 100), GF256(236, 122), GF256(17, 100), GF256(236, 122), GF256(17, 100)]\n",
      "Be careful outta there, the alpha is currently: None\n",
      "Be careful outta there, the alpha is currently: None\n",
      "Be careful outta there, the alpha is currently: None\n",
      "[GF256(61, 228), GF256(152, 17), GF256(178, 211), GF256(251, 234), GF256(25, 193), GF256(97, 66), GF256(159, 46), GF256(134, 99), GF256(89, 210), GF256(16, 4), GF256(236, 122), GF256(17, 100), GF256(236, 122), GF256(17, 100)]\n",
      "Be careful outta there, the alpha is currently: None\n",
      "Be careful outta there, the alpha is currently: None\n",
      "Be careful outta there, the alpha is currently: None\n",
      "[GF256(138, 222), GF256(216, 251), GF256(161, 63), GF256(87, 189), GF256(194, 67), GF256(232, 11), GF256(204, 127), GF256(155, 217), GF256(48, 29), GF256(193, 45), GF256(17, 100), GF256(236, 122), GF256(17, 100)]\n",
      "Be careful outta there, the alpha is currently: None\n",
      "Be careful outta there, the alpha is currently: None\n",
      "Be careful outta there, the alpha is currently: None\n",
      "[GF256(243, 233), GF256(239, 215), GF256(208, 108), GF256(218, 134), GF256(62, 114), GF256(134, 99), GF256(91, 92), GF256(95, 64), GF256(79, 136), GF256(220, 187), GF256(236, 122), GF256(17, 100)]\n",
      "Be careful outta there, the alpha is currently: None\n",
      "Be careful outta there, the alpha is currently: None\n",
      "Be careful outta there, the alpha is currently: None\n",
      "[GF256(149, 184), GF256(17, 100), GF256(85, 150), GF256(11, 238), GF256(95, 64), GF256(29, 8), GF256(234, 22), GF256(42, 142), GF256(168, 144), GF256(37, 36), GF256(17, 100)]\n",
      "Be careful outta there, the alpha is currently: None\n",
      "Be careful outta there, the alpha is currently: None\n",
      "Be careful outta there, the alpha is currently: None\n",
      "[GF256(135, 13), GF256(141, 197), GF256(255, 175), GF256(182, 93), GF256(62, 114), GF256(100, 195), GF256(49, 181), GF256(97, 66), GF256(230, 160), GF256(107, 84)]\n",
      "Be careful outta there, the alpha is currently: None\n",
      "Be careful outta there, the alpha is currently: None\n",
      "Be careful outta there, the alpha is currently: None\n",
      "[GF256(183, 158), GF256(2, 1), GF256(100, 195), GF256(183, 158), GF256(56, 201), GF256(138, 222), GF256(93, 56), GF256(142, 254), GF256(170, 151), GF256(105, 58)]\n",
      "Be careful outta there, the alpha is currently: None\n",
      "Be careful outta there, the alpha is currently: None\n",
      "Be careful outta there, the alpha is currently: None\n",
      "[GF256(59, 120), GF256(64, 6), GF256(106, 40), GF256(110, 186), GF256(255, 175), GF256(96, 30), GF256(4, 2), GF256(7, 198), GF256(199, 118), GF256(224, 203)]\n",
      "Be careful outta there, the alpha is currently: None\n",
      "Be careful outta there, the alpha is currently: None\n",
      "Be careful outta there, the alpha is currently: None\n",
      "[GF256(184, 132), GF256(182, 93), GF256(81, 208), GF256(206, 111), GF256(107, 84), GF256(170, 151), GF256(146, 153), GF256(62, 114), GF256(169, 135), GF256(145, 165)]\n",
      "Be careful outta there, the alpha is currently: None\n",
      "Be careful outta there, the alpha is currently: None\n",
      "Be careful outta there, the alpha is currently: None\n",
      "[GF256(51, 125), GF256(95, 64), GF256(101, 72), GF256(114, 155), GF256(198, 164), GF256(226, 95), GF256(246, 173), GF256(225, 89), GF256(87, 189), GF256(219, 177)]\n",
      "Be careful outta there, the alpha is currently: None\n",
      "Be careful outta there, the alpha is currently: None\n",
      "Be careful outta there, the alpha is currently: None\n",
      "[GF256(41, 147), GF256(231, 81), GF256(193, 45), GF256(168, 144), GF256(159, 46), GF256(146, 153), GF256(182, 93), GF256(1, 0), GF256(14, 199), GF256(215, 170)]\n",
      "Be careful outta there, the alpha is currently: None\n",
      "Be careful outta there, the alpha is currently: None\n",
      "Be careful outta there, the alpha is currently: None\n",
      "[GF256(179, 171), GF256(56, 201), GF256(177, 86), GF256(206, 111), GF256(230, 160), GF256(45, 18), GF256(179, 171), GF256(86, 219), GF256(156, 35), GF256(130, 192)]\n",
      "Be careful outta there, the alpha is currently: None\n",
      "Be careful outta there, the alpha is currently: None\n",
      "Be careful outta there, the alpha is currently: None\n",
      "[GF256(70, 48), GF256(186, 57), GF256(85, 150), GF256(17, 100), GF256(99, 163), GF256(235, 235), GF256(189, 109), GF256(232, 11), GF256(98, 182), GF256(195, 216)]\n",
      "Be careful outta there, the alpha is currently: None\n",
      "Be careful outta there, the alpha is currently: None\n",
      "Be careful outta there, the alpha is currently: None\n",
      "[GF256(84, 143), GF256(41, 147), GF256(96, 30), GF256(222, 62), GF256(212, 41), GF256(122, 229), GF256(105, 58), GF256(72, 226), GF256(62, 114), GF256(182, 93)]\n",
      "Be careful outta there, the alpha is currently: None\n",
      "Be careful outta there, the alpha is currently: None\n",
      "Be careful outta there, the alpha is currently: None\n",
      "[GF256(107, 84), GF256(57, 154), GF256(137, 74), GF256(9, 223), GF256(58, 9), GF256(155, 217), GF256(238, 44), GF256(181, 42), GF256(73, 152), GF256(165, 188)]\n",
      "Be careful outta there, the alpha is currently: None\n",
      "Be careful outta there, the alpha is currently: None\n",
      "Be careful outta there, the alpha is currently: None\n",
      "[GF256(196, 183), GF256(35, 47), GF256(39, 33), GF256(119, 43), GF256(235, 235), GF256(215, 170), GF256(231, 81), GF256(226, 95), GF256(93, 56), GF256(23, 129)]\n"
     ]
    }
   ],
   "source": [
    "def step(message_polynomial, generator_polynomial):\n",
    "    # Step _a:\n",
    "    lead_coefficient_message = message_polynomial[0]\n",
    "    result = [coefficent*lead_coefficient_message for coefficent in generator_polynomial]\n",
    "    \n",
    "    # Step _b:\n",
    "    # TODO: combine the results_ab variables?\n",
    "    coefficient_pairs = itertools.zip_longest(message_polynomial, result, fillvalue=GF256_Number(integer=0))\n",
    "    result = [message_coefficient + result_1a_coefficient for message_coefficient, result_1a_coefficient in coefficient_pairs]\n",
    "\n",
    "    assert result[0] == GF256_Number(integer=0), \"i think the firt element of result should be integer=0\"\n",
    "\n",
    "    result = result[1:] # TODO: this might cause problems as the size of the result will continue to decrease\n",
    "    return result\n",
    "\n",
    "def do_steps(message_polynomial, generator_polynomial, num=1):\n",
    "    result = message_polynomial\n",
    "    for index in range(num):\n",
    "        result = step(message_polynomial=result, generator_polynomial=generator_polynomial)\n",
    "        print(result)\n",
    "\n",
    "print(message_polynomial)\n",
    "do_steps(message_polynomial, generator_polynomial, num=16)"
   ]
  },
  {
   "cell_type": "code",
   "execution_count": null,
   "metadata": {},
   "outputs": [],
   "source": [
    "196, 35, 39, 119, 235, 215, 231, 226, 93, 23"
   ]
  },
  {
   "attachments": {},
   "cell_type": "markdown",
   "metadata": {},
   "source": [
    "138, 216, 161, 87, 194, 232, 204, 155, 48, 193, 17, 236, 17,"
   ]
  },
  {
   "cell_type": "code",
   "execution_count": 85,
   "metadata": {},
   "outputs": [
    {
     "name": "stdout",
     "output_type": "stream",
     "text": [
      "[GF256(32, 5), GF256(91, 92), GF256(11, 238), GF256(120, 78), GF256(209, 161), GF256(114, 155), GF256(220, 187), GF256(77, 145), GF256(67, 98), GF256(64, 6), GF256(236, 122), GF256(17, 100), GF256(236, 122), GF256(17, 100), GF256(236, 122), GF256(17, 100)]\n",
      "Be careful outta there, the alpha is currently: None\n",
      "Be careful outta there, the alpha is currently: None\n",
      "Be careful outta there, the alpha is currently: None\n",
      "[GF256(89, 210), GF256(110, 186), GF256(114, 155), GF256(176, 242), GF256(183, 158), GF256(211, 82), GF256(98, 182), GF256(197, 123), GF256(10, 51), GF256(233, 245), GF256(17, 100), GF256(236, 122), GF256(17, 100), GF256(236, 122), GF256(17, 100)]\n",
      "Be careful outta there, the alpha is currently: None\n",
      "Be careful outta there, the alpha is currently: None\n",
      "Be careful outta there, the alpha is currently: None\n",
      "[GF256(61, 228), GF256(152, 17), GF256(178, 211), GF256(251, 234), GF256(25, 193), GF256(97, 66), GF256(159, 46), GF256(134, 99), GF256(89, 210), GF256(16, 4), GF256(236, 122), GF256(17, 100), GF256(236, 122), GF256(17, 100)]\n",
      "Be careful outta there, the alpha is currently: None\n",
      "Be careful outta there, the alpha is currently: None\n",
      "Be careful outta there, the alpha is currently: None\n",
      "[GF256(138, 222), GF256(216, 251), GF256(161, 63), GF256(87, 189), GF256(194, 67), GF256(232, 11), GF256(204, 127), GF256(155, 217), GF256(48, 29), GF256(193, 45), GF256(17, 100), GF256(236, 122), GF256(17, 100)]\n",
      "Be careful outta there, the alpha is currently: None\n",
      "Be careful outta there, the alpha is currently: None\n",
      "Be careful outta there, the alpha is currently: None\n",
      "[GF256(243, 233), GF256(239, 215), GF256(208, 108), GF256(218, 134), GF256(62, 114), GF256(134, 99), GF256(91, 92), GF256(95, 64), GF256(79, 136), GF256(220, 187), GF256(236, 122), GF256(17, 100)]\n",
      "Be careful outta there, the alpha is currently: None\n",
      "Be careful outta there, the alpha is currently: None\n",
      "Be careful outta there, the alpha is currently: None\n",
      "[GF256(149, 184), GF256(17, 100), GF256(85, 150), GF256(11, 238), GF256(95, 64), GF256(29, 8), GF256(234, 22), GF256(42, 142), GF256(168, 144), GF256(37, 36), GF256(17, 100)]\n",
      "Be careful outta there, the alpha is currently: None\n",
      "Be careful outta there, the alpha is currently: None\n",
      "Be careful outta there, the alpha is currently: None\n",
      "[GF256(135, 13), GF256(141, 197), GF256(255, 175), GF256(182, 93), GF256(62, 114), GF256(100, 195), GF256(49, 181), GF256(97, 66), GF256(230, 160), GF256(107, 84)]\n",
      "Be careful outta there, the alpha is currently: None\n",
      "Be careful outta there, the alpha is currently: None\n",
      "Be careful outta there, the alpha is currently: None\n",
      "[GF256(183, 158), GF256(2, 1), GF256(100, 195), GF256(183, 158), GF256(56, 201), GF256(138, 222), GF256(93, 56), GF256(142, 254), GF256(170, 151), GF256(105, 58)]\n",
      "Be careful outta there, the alpha is currently: None\n",
      "Be careful outta there, the alpha is currently: None\n",
      "Be careful outta there, the alpha is currently: None\n",
      "[GF256(59, 120), GF256(64, 6), GF256(106, 40), GF256(110, 186), GF256(255, 175), GF256(96, 30), GF256(4, 2), GF256(7, 198), GF256(199, 118), GF256(224, 203)]\n",
      "Be careful outta there, the alpha is currently: None\n",
      "Be careful outta there, the alpha is currently: None\n",
      "Be careful outta there, the alpha is currently: None\n",
      "[GF256(184, 132), GF256(182, 93), GF256(81, 208), GF256(206, 111), GF256(107, 84), GF256(170, 151), GF256(146, 153), GF256(62, 114), GF256(169, 135), GF256(145, 165)]\n",
      "Be careful outta there, the alpha is currently: None\n",
      "Be careful outta there, the alpha is currently: None\n",
      "Be careful outta there, the alpha is currently: None\n",
      "[GF256(51, 125), GF256(95, 64), GF256(101, 72), GF256(114, 155), GF256(198, 164), GF256(226, 95), GF256(246, 173), GF256(225, 89), GF256(87, 189), GF256(219, 177)]\n",
      "Be careful outta there, the alpha is currently: None\n",
      "Be careful outta there, the alpha is currently: None\n",
      "Be careful outta there, the alpha is currently: None\n",
      "[GF256(41, 147), GF256(231, 81), GF256(193, 45), GF256(168, 144), GF256(159, 46), GF256(146, 153), GF256(182, 93), GF256(1, 0), GF256(14, 199), GF256(215, 170)]\n",
      "Be careful outta there, the alpha is currently: None\n",
      "Be careful outta there, the alpha is currently: None\n",
      "Be careful outta there, the alpha is currently: None\n",
      "[GF256(179, 171), GF256(56, 201), GF256(177, 86), GF256(206, 111), GF256(230, 160), GF256(45, 18), GF256(179, 171), GF256(86, 219), GF256(156, 35), GF256(130, 192)]\n",
      "Be careful outta there, the alpha is currently: None\n",
      "Be careful outta there, the alpha is currently: None\n",
      "Be careful outta there, the alpha is currently: None\n",
      "[GF256(70, 48), GF256(186, 57), GF256(85, 150), GF256(17, 100), GF256(99, 163), GF256(235, 235), GF256(189, 109), GF256(232, 11), GF256(98, 182), GF256(195, 216)]\n",
      "Be careful outta there, the alpha is currently: None\n",
      "Be careful outta there, the alpha is currently: None\n",
      "Be careful outta there, the alpha is currently: None\n",
      "[GF256(84, 143), GF256(41, 147), GF256(96, 30), GF256(222, 62), GF256(212, 41), GF256(122, 229), GF256(105, 58), GF256(72, 226), GF256(62, 114), GF256(182, 93)]\n",
      "Be careful outta there, the alpha is currently: None\n",
      "Be careful outta there, the alpha is currently: None\n",
      "Be careful outta there, the alpha is currently: None\n",
      "[GF256(107, 84), GF256(57, 154), GF256(137, 74), GF256(9, 223), GF256(58, 9), GF256(155, 217), GF256(238, 44), GF256(181, 42), GF256(73, 152), GF256(165, 188)]\n",
      "Be careful outta there, the alpha is currently: None\n",
      "Be careful outta there, the alpha is currently: None\n",
      "Be careful outta there, the alpha is currently: None\n",
      "[GF256(196, 183), GF256(35, 47), GF256(39, 33), GF256(119, 43), GF256(235, 235), GF256(215, 170), GF256(231, 81), GF256(226, 95), GF256(93, 56), GF256(23, 129)]\n"
     ]
    }
   ],
   "source": [
    "def polynomial_long_division_gf256(message_polynomial, generator_polynomial, num=1):\n",
    "\n",
    "    def polynomial_long_division_gf256_step(message_polynomial, generator_polynomial):\n",
    "        # Multiply the generator_polynomial by the lead term of the messenger_polynomial\n",
    "        lead_coefficient_message = message_polynomial[0]\n",
    "        result = [coefficent*lead_coefficient_message for coefficent in generator_polynomial]\n",
    "        \n",
    "        # XOR the result with the messenger Polynomial (fill with integer=0)\n",
    "        coefficient_pairs = itertools.zip_longest(message_polynomial, result, fillvalue=GF256_Number(integer=0))\n",
    "        result = [message_coefficient + result_1a_coefficient for message_coefficient, result_1a_coefficient in coefficient_pairs]\n",
    "\n",
    "        # discard leading zero\n",
    "        result = result[1:]\n",
    "        return result\n",
    "\n",
    "    result = message_polynomial\n",
    "    for index in range(num):\n",
    "        result = polynomial_long_division_gf256_step(message_polynomial=result, generator_polynomial=generator_polynomial)\n",
    "        print(result)\n",
    "\n",
    "print(message_polynomial)\n",
    "do_steps(message_polynomial, generator_polynomial, num=16)"
   ]
  },
  {
   "cell_type": "code",
   "execution_count": 40,
   "metadata": {},
   "outputs": [
    {
     "data": {
      "text/plain": [
       "[(1, 4), (2, 5), (3, 6)]"
      ]
     },
     "execution_count": 40,
     "metadata": {},
     "output_type": "execute_result"
    }
   ],
   "source": [
    "a = [1, 2, 3]\n",
    "b = [4, 5, 6]\n",
    "\n",
    "list(zip(a, b))"
   ]
  }
 ],
 "metadata": {
  "kernelspec": {
   "display_name": "Python 3",
   "language": "python",
   "name": "python3"
  },
  "language_info": {
   "codemirror_mode": {
    "name": "ipython",
    "version": 3
   },
   "file_extension": ".py",
   "mimetype": "text/x-python",
   "name": "python",
   "nbconvert_exporter": "python",
   "pygments_lexer": "ipython3",
   "version": "3.9.0"
  },
  "orig_nbformat": 4,
  "vscode": {
   "interpreter": {
    "hash": "11938c6bc6919ae2720b4d5011047913343b08a43b18698fd82dedb0d4417594"
   }
  }
 },
 "nbformat": 4,
 "nbformat_minor": 2
}
