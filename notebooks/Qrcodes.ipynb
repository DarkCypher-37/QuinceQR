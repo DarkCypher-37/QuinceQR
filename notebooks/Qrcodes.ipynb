{
 "cells": [
  {
   "cell_type": "code",
   "execution_count": 1,
   "metadata": {},
   "outputs": [],
   "source": [
    "import qrcode\n",
    "import pickle\n",
    "import numpy as np\n",
    "import itertools\n",
    "import matplotlib.pyplot as plt\n",
    "\n",
    "from enum import Enum, auto\n",
    "from typing import List\n",
    "\n",
    "from scripts.GF256_Number import GF256_Number"
   ]
  },
  {
   "cell_type": "code",
   "execution_count": 66,
   "metadata": {},
   "outputs": [
    {
     "data": {
      "text/html": [
       "<h3>Ziele</h3>\n",
       "<ul style=\"list-style: none; padding-left: 0;\">\n",
       "    <li><input type=\"checkbox\" checked> Grobe Datenanalyse/Datenverwaltung: Passende Kodierung wählen (numerisch, alphanumerisch, Byte (Latin-1) und Kanji (shift JIS))</li>\n",
       "    <li><input type=\"checkbox\" checked> Minimale Version (bzw. Größe) berechnen, padding und in Codewörter unterteilen</li>\n",
       "    <li><input type=\"checkbox\" checked> Error Correction Coding: Redundante Bytes zur Fehlerbehebung berechnen (Reed-Solomon-Code)</li>\n",
       "    <li><input type=\"checkbox\" checked> Zahlen im Galois-Feld GF(256)</li>\n",
       "    <li><input type=\"checkbox\" checked> Generator-Polynom und Message-Polynom erstellen</li>\n",
       "    <li><input type=\"checkbox\" checked> Polynomen Division</li>\n",
       "    <li><input type=\"checkbox\" checked> Die Daten passend sortieren, sodass der QR-Code gefüllt werden kann</li>\n",
       "    <li><input type=\"checkbox\" checked> Den QR-Code mit function patterns füllern</li>\n",
       "    <li><input type=\"checkbox\" checked> Die QR-Code Matrix mit den Daten und dessen Fehlerkorrektur füllen</li>\n",
       "    <li><input type=\"checkbox\"> Maskieren des QR-Codes</li>\n",
       "    <li><input type=\"checkbox\"> Versions Informationen+Fehlerkorrekturbits erstellen</li>\n",
       "    <li><input type=\"checkbox\"> Versions Informationen in den QR-Code einfügen</li>\n",
       "    <li><input type=\"checkbox\"> Format Informationen+Fehlerkorrekturbits erstellen</li>\n",
       "    <li><input type=\"checkbox\"> Format Informationen in den QR-Code einfügen</li>\n",
       "</ul>\n"
      ],
      "text/plain": [
       "<IPython.core.display.HTML object>"
      ]
     },
     "metadata": {},
     "output_type": "display_data"
    }
   ],
   "source": [
    "%%HTML\n",
    "<h3>Ziele</h3>\n",
    "<ul style=\"list-style: none; padding-left: 0;\">\n",
    "    <li><input type=\"checkbox\" checked> Grobe Datenanalyse/Datenverwaltung: Passende Kodierung wählen (numerisch, alphanumerisch, Byte (Latin-1) und Kanji (shift JIS))</li>\n",
    "    <li><input type=\"checkbox\" checked> Minimale Version (bzw. Größe) berechnen, padding und in Codewörter unterteilen</li>\n",
    "    <li><input type=\"checkbox\" checked> Error Correction Coding: Redundante Bytes zur Fehlerbehebung berechnen (Reed-Solomon-Code)</li>\n",
    "    <li><input type=\"checkbox\" checked> Zahlen im Galois-Feld GF(256)</li>\n",
    "    <li><input type=\"checkbox\" checked> Generator-Polynom und Message-Polynom erstellen</li>\n",
    "    <li><input type=\"checkbox\" checked> Polynomen Division</li>\n",
    "    <li><input type=\"checkbox\" checked> Die Daten passend sortieren, sodass der QR-Code gefüllt werden kann</li>\n",
    "    <li><input type=\"checkbox\" checked> Den QR-Code mit function patterns füllern</li>\n",
    "    <li><input type=\"checkbox\" checked> Die QR-Code Matrix mit den Daten und dessen Fehlerkorrektur füllen</li>\n",
    "    <li><input type=\"checkbox\"> Maskieren des QR-Codes</li>\n",
    "    <li><input type=\"checkbox\"> Versions Informationen+Fehlerkorrekturbits erstellen</li>\n",
    "    <li><input type=\"checkbox\"> Versions Informationen in den QR-Code einfügen</li>\n",
    "    <li><input type=\"checkbox\"> Format Informationen+Fehlerkorrekturbits erstellen</li>\n",
    "    <li><input type=\"checkbox\"> Format Informationen in den QR-Code einfügen</li>\n",
    "</ul>"
   ]
  },
  {
   "cell_type": "code",
   "execution_count": 3,
   "metadata": {},
   "outputs": [
    {
     "data": {
      "image/png": "[encoded data removed]",
      "text/plain": [
       "<qrcode.image.pil.PilImage at 0x1ea73c95370>"
      ]
     },
     "execution_count": 3,
     "metadata": {},
     "output_type": "execute_result"
    }
   ],
   "source": [
    "qr = qrcode.QRCode(error_correction=qrcode.ERROR_CORRECT_Q)\n",
    "qr.add_data(\"0\"*2000)\n",
    "# qr.add_data(\"0\"*200)\n",
    "# qr.version = 5\n",
    "qr.make_image()\n",
    "# qr.add_data(\"9\"*20)\n",
    "# qr.best_fit()"
   ]
  },
  {
   "cell_type": "code",
   "execution_count": 4,
   "metadata": {},
   "outputs": [
    {
     "data": {
      "image/png": "[encoded data removed]",
      "text/plain": [
       "<qrcode.image.pil.PilImage at 0x1ea67a865b0>"
      ]
     },
     "execution_count": 4,
     "metadata": {},
     "output_type": "execute_result"
    }
   ],
   "source": [
    "qr = qrcode.QRCode(error_correction=qrcode.ERROR_CORRECT_Q)\n",
    "# qr.add_data(\"0\"*2000)\n",
    "qr.add_data(\"0\"*144)\n",
    "qr.version = 5\n",
    "qr.make_image()\n",
    "# qr.version\n",
    "# qr.add_data(\"9\"*20)\n",
    "# qr.best_fit()"
   ]
  },
  {
   "cell_type": "code",
   "execution_count": 5,
   "metadata": {},
   "outputs": [],
   "source": [
    "# class ModeIndicator(Enum):\n",
    "#     numeric_mode = 0b0001\n",
    "#     alphanumeric_mode = 0b0010\n",
    "#     byte_mode = 0b0100\n",
    "#     kanji_mode = 0b1000\n",
    "#     ECI_mode = 0b0111\n",
    "\n",
    "# mode_indicator_mapping = {0b0001:0, 0b0010: 1, 0b0100:2, 0b1000:3}\n",
    "\n",
    "class ModeIndicator(Enum):\n",
    "    numeric_mode = 0\n",
    "    alphanumeric_mode = 1\n",
    "    byte_mode = 2\n",
    "    kanji_mode = 3\n",
    "    # ECI_mode = auto()\n",
    "\n",
    "mode_indicator_mapping = {\n",
    "    ModeIndicator.numeric_mode: \"0001\", \n",
    "    ModeIndicator.alphanumeric_mode: \"0010\", \n",
    "    ModeIndicator.byte_mode: \"0100\", \n",
    "    ModeIndicator.kanji_mode: \"1000\"\n",
    "}\n",
    "\n",
    "class ErrorCorrectionLevel(Enum):\n",
    "    L = 1\n",
    "    M = 2\n",
    "    Q = 3\n",
    "    H = 4\n",
    "\n",
    "class SizeLevel(Enum):\n",
    "    small = auto()\n",
    "    medium = auto()\n",
    "    large = auto()\n",
    "\n",
    "assert mode_indicator_mapping[ModeIndicator.numeric_mode] == \"0001\"\n",
    "assert mode_indicator_mapping[ModeIndicator.alphanumeric_mode] == \"0010\"\n",
    "assert mode_indicator_mapping[ModeIndicator.byte_mode] == \"0100\"\n",
    "assert mode_indicator_mapping[ModeIndicator.kanji_mode] == \"1000\""
   ]
  },
  {
   "cell_type": "code",
   "execution_count": 6,
   "metadata": {},
   "outputs": [],
   "source": [
    "# size_level\n",
    "#   Small: 1 to 9\n",
    "#   Medium: 10 to 26\n",
    "#   Large: 27 to 40\n",
    "\n",
    "def get_size_from_version(version: int) -> SizeLevel:\n",
    "    # if not 0 < version < 41:\n",
    "    #     raise ValueError(f\"the specified version is not between 1 through 40 (inclusive): {version}\")\n",
    "    if 1 <= version <= 9:\n",
    "        return SizeLevel.small\n",
    "    if 10 <= version <= 26:\n",
    "        return SizeLevel.medium\n",
    "    if 27 <= version <= 40:\n",
    "        return SizeLevel.large\n",
    "    raise ValueError(f\"the specified version is not between 1 through 40 (inclusive): {version}\")\n",
    "\n",
    "assert get_size_from_version(5) == SizeLevel.small\n",
    "assert get_size_from_version(9) == SizeLevel.small\n",
    "assert get_size_from_version(26) == SizeLevel.medium\n",
    "assert get_size_from_version(40) == SizeLevel.large"
   ]
  },
  {
   "cell_type": "code",
   "execution_count": 7,
   "metadata": {},
   "outputs": [],
   "source": [
    "char_count_byte_length_for_version_and_mode = {\n",
    "    SizeLevel.small : {\n",
    "        ModeIndicator.numeric_mode : 10,\n",
    "        ModeIndicator.alphanumeric_mode : 9,\n",
    "        ModeIndicator.byte_mode : 8,\n",
    "        ModeIndicator.kanji_mode : 8\n",
    "    },\n",
    "    SizeLevel.medium : {\n",
    "        ModeIndicator.numeric_mode : 12,\n",
    "        ModeIndicator.alphanumeric_mode : 11,\n",
    "        ModeIndicator.byte_mode : 16,\n",
    "        ModeIndicator.kanji_mode : 10\n",
    "    },\n",
    "    SizeLevel.large : {\n",
    "        ModeIndicator.numeric_mode : 14,\n",
    "        ModeIndicator.alphanumeric_mode : 13,\n",
    "        ModeIndicator.byte_mode : 16,\n",
    "        ModeIndicator.kanji_mode : 12\n",
    "    }\n",
    "}\n",
    "\n",
    "def get_char_counter_pad(version: int, mode: ModeIndicator):\n",
    "    return char_count_byte_length_for_version_and_mode[get_size_from_version(version)][mode]\n",
    "\n",
    "assert get_char_counter_pad(1, ModeIndicator.alphanumeric_mode) == 9\n",
    "assert get_char_counter_pad(20, ModeIndicator.byte_mode) == 16\n",
    "\n",
    "def get_char_counter_binary(length: int, version: int, mode: ModeIndicator):\n",
    "    pad = get_char_counter_pad(version, mode) # get the amount of padding needed\n",
    "    return format(length, f\">0{pad}b\")  # pad the binary to the length specified\n",
    "\n",
    "assert get_char_counter_binary(11, 1, ModeIndicator.alphanumeric_mode) == '000001011'\n",
    "assert get_char_counter_binary(100, 30, ModeIndicator.alphanumeric_mode) == '0000001100100'"
   ]
  },
  {
   "cell_type": "code",
   "execution_count": 8,
   "metadata": {},
   "outputs": [],
   "source": [
    "filepath = \"../resources/version.pickle\"\n",
    "\n",
    "with open(filepath, \"rb\") as file:\n",
    "    version_dict = pickle.load(file)\n",
    "\n",
    "# version_dict[version-1][ErrorCorrectionLevel.XX][ModeIndicator.YY.value]\n",
    "# XX: L, M, H, Q\n",
    "# YY: numeric, alphanumeric, byte, kanji\n",
    "assert version_dict[0][ErrorCorrectionLevel.M] == [34, 20, 14, 8]"
   ]
  },
  {
   "cell_type": "code",
   "execution_count": 9,
   "metadata": {},
   "outputs": [],
   "source": [
    "def get_minimum_version(character_length: int, mode: ModeIndicator, error_correction_level: ErrorCorrectionLevel, minimum_version:int=1) -> int:\n",
    "    \"\"\" get the minumum version (equivalent to the size of the qr code) for the specified mode and error correction level\n",
    "    \"\"\"\n",
    "    for index, version in enumerate(version_dict):\n",
    "        length_in_version = version[error_correction_level][mode.value]\n",
    "        if length_in_version >= character_length:\n",
    "            return max(index+1, minimum_version)\n",
    "\n",
    "    raise Exception(\"too much data, can't fit inside QR-Code\")\n",
    "\n",
    "assert get_minimum_version(20, ModeIndicator.alphanumeric_mode, ErrorCorrectionLevel.M, minimum_version=10) == 10\n",
    "assert get_minimum_version(2000, ModeIndicator.alphanumeric_mode, ErrorCorrectionLevel.L) == 27\n",
    "assert get_minimum_version(2000, ModeIndicator.numeric_mode, ErrorCorrectionLevel.Q, minimum_version=26) == 28\n",
    "assert get_minimum_version(2000, ModeIndicator.byte_mode, ErrorCorrectionLevel.L) == 33\n",
    "assert get_minimum_version(7089, ModeIndicator.numeric_mode, ErrorCorrectionLevel.L) == 40 # biggest numeric possible"
   ]
  },
  {
   "cell_type": "code",
   "execution_count": 10,
   "metadata": {},
   "outputs": [],
   "source": [
    "digits = \"0123456789\" # only digits\n",
    "alphanumeric = \"0123456789ABCDEFGHIJKLMNOPQRSTUVWXYZ $%*+-./:\" # digits, cap_alphabet, space, $, %, *, +, -, ., /, :\n",
    "\n",
    "def get_val_for_char(char):\n",
    "    return alphanumeric.find(char)\n",
    "\n",
    "assert get_val_for_char('A') == 10\n",
    "assert get_val_for_char(':') == 44\n",
    "\n",
    "def get_char_for_val(val):\n",
    "    return alphanumeric[val]\n",
    "\n",
    "assert get_char_for_val(10) == 'A'\n",
    "assert get_char_for_val(44) == ':'"
   ]
  },
  {
   "cell_type": "code",
   "execution_count": 11,
   "metadata": {},
   "outputs": [],
   "source": [
    "def get_mode(data):\n",
    "    if set(data).issubset(digits): # or use re.match\n",
    "        return ModeIndicator.numeric_mode\n",
    "    elif set(data).issubset(alphanumeric):\n",
    "        return ModeIndicator.alphanumeric_mode\n",
    "    # elif # kanji\n",
    "    #     print(\"use kanji mode\")\n",
    "        # mode_indicator = ModeIndicator.kanji_mode\n",
    "    else:\n",
    "        return ModeIndicator.byte_mode\n",
    "\n",
    "assert get_mode(\"12434\") == ModeIndicator.numeric_mode\n",
    "assert get_mode(\"HELLO WORLD*+-123\") == ModeIndicator.alphanumeric_mode\n",
    "assert get_mode(\"324kjdsfSFJ!\") == ModeIndicator.byte_mode\n",
    "\n",
    "# not implemented:\n",
    "#   - Extended Channel Interpretation (ECI) mode\n",
    "#   - Structured Append mode\n",
    "#   - FNC1 mode"
   ]
  },
  {
   "cell_type": "code",
   "execution_count": 12,
   "metadata": {},
   "outputs": [],
   "source": [
    "# https://www.thonky.com/qr-code-tutorial/alphanumeric-mode-encoding\n",
    "def encode_alphanumeric(data: str) -> str:\n",
    "    encoded_data = \"\"\n",
    "    pairs = [data[i:i+2] for i in range(0, len(data), 2)]\n",
    "    \n",
    "    for pair in pairs:\n",
    "        if len(pair) == 1:\n",
    "            val = get_val_for_char(pair)\n",
    "            encoded_data += format(val, \">06b\")\n",
    "            break\n",
    "        \n",
    "        val1 = get_val_for_char(pair[0])\n",
    "        val2 = get_val_for_char(pair[1])\n",
    "        pair_val = (45*val1)+val2\n",
    "\n",
    "        encoded_data += format(pair_val, \">011b\")\n",
    "    return encoded_data\n",
    "\n",
    "assert encode_alphanumeric(\"HELLO WORLD\") == '0110000101101111000110100010111001011011100010011010100001101'\n",
    "\n",
    "\n",
    "# https://www.thonky.com/qr-code-tutorial/numeric-mode-encoding\n",
    "def encode_numeric(data: str) -> str:\n",
    "    encoded_data = \"\"\n",
    "    pairs = [data[i:i+3] for i in range(0, len(data), 3)]\n",
    "\n",
    "    for pair in pairs:\n",
    "        if len(pair) == 1 or pair[0:2] == \"00\":\n",
    "            encoded_data += format(int(pair), \">04b\")\n",
    "        elif len(pair) == 2 or pair[0] == \"0\":\n",
    "            encoded_data += format(int(pair), \">07b\")\n",
    "        elif len(pair) == 3:\n",
    "            encoded_data += format(int(pair), \">010b\")\n",
    "    return encoded_data\n",
    "\n",
    "assert encode_numeric(\"8675309\") == '110110001110000100101001'\n",
    "\n",
    "\n",
    "# https://www.thonky.com/qr-code-tutorial/byte-mode-encoding\n",
    "def encode_byte(data: str) -> str:\n",
    "    data_bytes = data.encode(\"ISO 8859-1\") # iso 8859 latin-1 (Western europe)\n",
    "    # data_bytes = data.encode(\"UTF-8\")\n",
    "\n",
    "    encoded_data = \"\".join(format(byte, \"0>8b\") for byte in data_bytes)\n",
    "    return encoded_data\n",
    "\n",
    "assert encode_byte(\"Hello, world!\") == '01001000011001010110110001101100011011110010110000100000011101110110111101110010011011000110010000100001'\n",
    "\n",
    "\n",
    "# https://www.thonky.com/qr-code-tutorial/kanji-mode-encoding\n",
    "def encode_kanji(data):\n",
    "    raise NotImplementedError\n",
    "\n",
    "def encode_data(data, mode):\n",
    "    if mode == ModeIndicator.numeric_mode:\n",
    "        return encode_numeric(data)\n",
    "    elif mode == ModeIndicator.alphanumeric_mode:\n",
    "        return encode_alphanumeric(data)\n",
    "    elif mode == ModeIndicator.byte_mode:\n",
    "        return encode_byte(data)\n",
    "    elif mode == ModeIndicator.kanji_mode:\n",
    "        return encode_kanji(data)"
   ]
  },
  {
   "cell_type": "code",
   "execution_count": 13,
   "metadata": {},
   "outputs": [],
   "source": [
    "filepath = \"../resources/error_correction_table.pickle\"\n",
    "\n",
    "with open(filepath, \"rb\") as file:\n",
    "    error_correction_dict = pickle.load(file)\n",
    "\n",
    "# error_correction_dict[(version, ErrorCorrectionLevel)][XX]\n",
    "# XX: Total Number of Data Codewords, EC Codewords Per Block, Number of Blocks in Group 1, \n",
    "#     Number of Data Codewords in Each of Group 1's Blocks, Number of Blocks in Group 2, Number of Data Codewords in Each of Group 2's Blocks\n",
    "\n",
    "assert error_correction_dict[(40, ErrorCorrectionLevel.H)] == (1276, 30, 20, 15, 61, 16)"
   ]
  },
  {
   "cell_type": "code",
   "execution_count": 14,
   "metadata": {},
   "outputs": [],
   "source": [
    "def get_total_codewords(version: int, error_correction_level: ErrorCorrectionLevel) -> int:\n",
    "    return error_correction_dict[(version, error_correction_level)][0]\n",
    "\n",
    "assert get_total_codewords(1, ErrorCorrectionLevel.Q) == 13\n",
    "assert get_total_codewords(40, ErrorCorrectionLevel.H) == 1276\n",
    "\n",
    "def get_data_bits_required(version: int, error_correction_level: ErrorCorrectionLevel) -> int:\n",
    "    return error_correction_dict[(version, error_correction_level)][0]*8\n",
    "\n",
    "assert get_data_bits_required(20, ErrorCorrectionLevel.H) == 3080\n",
    "assert get_data_bits_required(1, ErrorCorrectionLevel.Q) == 104"
   ]
  },
  {
   "cell_type": "code",
   "execution_count": 15,
   "metadata": {},
   "outputs": [],
   "source": [
    "def get_blocks_per_group(version: int, error_correction_level: ErrorCorrectionLevel) -> List[int]:\n",
    "    error_correction_info = error_correction_dict[(version, error_correction_level)]\n",
    "    return [error_correction_info[2], error_correction_info[4]]\n",
    "\n",
    "assert get_blocks_per_group(1, ErrorCorrectionLevel.Q) == [1, 0]\n",
    "assert get_blocks_per_group(5, ErrorCorrectionLevel.Q) == [2, 2]\n",
    "assert get_blocks_per_group(40, ErrorCorrectionLevel.L) == [19, 6]\n",
    "assert get_blocks_per_group(33, ErrorCorrectionLevel.M) == [14, 21]"
   ]
  },
  {
   "cell_type": "code",
   "execution_count": 16,
   "metadata": {},
   "outputs": [],
   "source": [
    "def get_codewords_per_block(version: int, error_correction_level: ErrorCorrectionLevel) -> List[int]:\n",
    "    error_correction_info = error_correction_dict[(version, error_correction_level)]\n",
    "    return [error_correction_info[3], error_correction_info[5]]\n",
    "\n",
    "assert get_codewords_per_block(1, ErrorCorrectionLevel.Q) == [13, 0]\n",
    "assert get_codewords_per_block(5, ErrorCorrectionLevel.Q) == [15, 16]\n",
    "assert get_codewords_per_block(40, ErrorCorrectionLevel.L) == [118, 119]\n",
    "assert get_codewords_per_block(33, ErrorCorrectionLevel.M) == [46, 47]"
   ]
  },
  {
   "cell_type": "code",
   "execution_count": 17,
   "metadata": {},
   "outputs": [],
   "source": [
    "def get_error_correction_codewords_per_block(version: int, error_correction_level: ErrorCorrectionLevel) -> int:\n",
    "    error_correction_info = error_correction_dict[(version, error_correction_level)]\n",
    "    return error_correction_info[1]\n",
    "\n",
    "assert get_error_correction_codewords_per_block(1, ErrorCorrectionLevel.M) == 10\n",
    "assert get_error_correction_codewords_per_block(40, ErrorCorrectionLevel.H) == 30"
   ]
  },
  {
   "cell_type": "code",
   "execution_count": 18,
   "metadata": {},
   "outputs": [],
   "source": [
    "def add_terminator(total_bit_string: str, total_data_bits_required: int) -> str:\n",
    "    \"\"\" returns the total bit string with the terminator appended\n",
    "    \"\"\"\n",
    "    diffrence = total_data_bits_required - len(total_bit_string)\n",
    "    terminator_length = min(4, diffrence)\n",
    "    return total_bit_string + \"0\" * terminator_length\n",
    "\n",
    "assert add_terminator('00100000010110110000101101111000110100010111001011011100010011010100001101', 104) == \"001000000101101100001011011110001101000101110010110111000100110101000011010000\"\n",
    "# assert add_terminator('01000000000101100001', 104) == \"010000000001011000010000\""
   ]
  },
  {
   "cell_type": "code",
   "execution_count": 19,
   "metadata": {},
   "outputs": [],
   "source": [
    "def add_padding(total_bit_string: str) -> str:\n",
    "    pad_length = 8-len(total_bit_string)%8\n",
    "    return  total_bit_string + \"0\" * pad_length\n",
    "\n",
    "assert add_padding(\"001000000101101100001011011110001101000101110010110111000100110101000011010000\") == \"00100000010110110000101101111000110100010111001011011100010011010100001101000000\""
   ]
  },
  {
   "cell_type": "code",
   "execution_count": 20,
   "metadata": {},
   "outputs": [],
   "source": [
    "def fill_with_pad_bytes(total_bit_string: str, total_data_bits_required: int) -> str:\n",
    "    \"\"\" fill the total_bit_string with the pad_bytes, alternating\n",
    "    \"\"\"\n",
    "    pad_byte1, pad_byte2 = \"11101100\", \"00010001\"\n",
    "\n",
    "    while len(total_bit_string) < total_data_bits_required:\n",
    "        total_bit_string += pad_byte1\n",
    "        pad_byte1, pad_byte2 = pad_byte2, pad_byte1\n",
    "\n",
    "    return total_bit_string\n",
    "\n",
    "assert len(fill_with_pad_bytes(\"00100000010110110000101101111000110100010111001011011100010011010100001101000000\", 104)) == 104\n",
    "assert fill_with_pad_bytes(\"00100000010110110000101101111000110100010111001011011100010011010100001101000000\", 104) == \"00100000010110110000101101111000110100010111001011011100010011010100001101000000111011000001000111101100\""
   ]
  },
  {
   "cell_type": "code",
   "execution_count": 21,
   "metadata": {},
   "outputs": [],
   "source": [
    "def split_string_into_chunks(string, chunk_size=8):\n",
    "    \"\"\" split a string into evenly sized chunks\n",
    "    \"\"\"\n",
    "    return [string[index:(index+chunk_size)] for index in range(0, len(string), chunk_size)]"
   ]
  },
  {
   "cell_type": "code",
   "execution_count": 22,
   "metadata": {},
   "outputs": [],
   "source": [
    "def split_in_groups(codewords: List[str], num_of_blocks_per_group: List[int], num_of_codewords_per_block: List[int]) -> List[List[List[str]]]:\n",
    "    \"\"\"\n",
    "    The codewords need to be sorted into 2 Groups, each containing x and y blocks respectivly\n",
    "    In Group 1 each Block contains n codewords, in Group 2 each block contains m codewords\n",
    "\n",
    "    The codewords need to be sorted into 2 Groups, each containing 'num_of_blocks_per_group[0]' and 'num_of_blocks_per_group[1]' blocks respectivly\n",
    "    In Group 1 each Block contains 'num_of_codewords_per_block[0]' codewords, in Group 2 each block contains 'num_of_codewords_per_block[1]' codewords\n",
    "    \n",
    "    Group 1                 | Group 2\n",
    "    Block 1 ... Block x     | Block 1 ... Block y\n",
    "    n or m number of codewords per block\n",
    "    \"\"\"\n",
    "    groups = []\n",
    "    for group_index in range(2):\n",
    "        group_offset = group_index*num_of_blocks_per_group[0]*num_of_codewords_per_block[0]\n",
    "        group = []\n",
    "\n",
    "        for block_index in range(num_of_blocks_per_group[group_index]):\n",
    "            block_offset = block_index*num_of_codewords_per_block[group_index]\n",
    "            \n",
    "            block = [codewords[group_offset + block_offset + codeword_index_in_block] for codeword_index_in_block in range(num_of_codewords_per_block[group_index])]\n",
    "            group.append(block)\n",
    "        groups.append(group)\n",
    "\n",
    "    return groups"
   ]
  },
  {
   "cell_type": "code",
   "execution_count": 23,
   "metadata": {},
   "outputs": [],
   "source": [
    "def make_total_bit_string(data: str, error_correction_level: ErrorCorrectionLevel) -> str:\n",
    "    mode = get_mode(data)\n",
    "    version = get_minimum_version(len(data), mode, error_correction_level)\n",
    "    character_count_indicator = get_char_counter_binary(len(data), version, mode)\n",
    "    encoded_data = encode_data(data, mode)\n",
    "    total_data_bits_required = get_total_codewords(version, error_correction_level)*8\n",
    "\n",
    "    total_bit_string = mode_indicator_mapping[mode] + character_count_indicator + encoded_data\n",
    "    total_bit_string = fill_with_pad_bytes(add_padding(add_terminator(total_bit_string, total_data_bits_required)), total_data_bits_required)\n",
    "    \n",
    "    return total_bit_string \n",
    "\n",
    "assert make_total_bit_string(\"HELLO WORLD\", ErrorCorrectionLevel.Q) == \"00100000010110110000101101111000110100010111001011011100010011010100001101000000111011000001000111101100\""
   ]
  },
  {
   "cell_type": "code",
   "execution_count": 24,
   "metadata": {},
   "outputs": [],
   "source": [
    "def make_groups(data: str, error_correction_level: ErrorCorrectionLevel) -> str: # just current name # TODO: remove?\n",
    "    mode = get_mode(data)\n",
    "    version = get_minimum_version(len(data), mode, error_correction_level)\n",
    "    character_count_indicator = get_char_counter_binary(len(data), version, mode)\n",
    "    encoded_data = encode_data(data, mode)\n",
    "\n",
    "    total_data_bits_required = get_total_codewords(version, error_correction_level)*8\n",
    "    num_of_blocks_per_group = get_blocks_per_group(version, error_correction_level)\n",
    "\n",
    "    num_of_codewords_per_block = get_codewords_per_block(version, error_correction_level)\n",
    "    total_codewords = get_total_codewords(version, error_correction_level)\n",
    "    num_of_error_correction_codewords = get_error_correction_codewords_per_block(version, error_correction_level)\n",
    "\n",
    "    total_bit_string = mode_indicator_mapping[mode] + character_count_indicator + encoded_data\n",
    "    total_bit_string = fill_with_pad_bytes(add_padding(add_terminator(total_bit_string, total_data_bits_required)), total_data_bits_required)\n",
    "    \n",
    "    codewords = split_string_into_chunks(total_bit_string, 8)\n",
    "\n",
    "    assert all(len(codeword) == 8 for codeword in codewords)\n",
    "\n",
    "    groups = split_in_groups(codewords, num_of_blocks_per_group, num_of_codewords_per_block)\n",
    "\n",
    "    return groups\n",
    "\n",
    "assert make_groups(\"HELLO WORLD\", ErrorCorrectionLevel.Q) == [[['00100000', '01011011', '00001011', '01111000', '11010001', '01110010', '11011100', '01001101', '01000011', '01000000', '11101100', '00010001', '11101100']], []]"
   ]
  },
  {
   "cell_type": "code",
   "execution_count": 25,
   "metadata": {},
   "outputs": [
    {
     "data": {
      "text/plain": [
       "[1, 127, 122, 154, 164, 11, 68, 117]"
      ]
     },
     "execution_count": 25,
     "metadata": {},
     "output_type": "execute_result"
    }
   ],
   "source": [
    "# generator Polynomial\n",
    "\n",
    "def multiply_terms(term1, term2):\n",
    "    result = []\n",
    "\n",
    "    for coefficient1, exponent1 in term1:\n",
    "        for coefficient2, exponent2 in term2:\n",
    "            result.append((coefficient1*coefficient2, exponent1+exponent2))\n",
    "\n",
    "    return result\n",
    "\n",
    "def combine(term):\n",
    "    result = [None]*len(term)\n",
    "\n",
    "    for coefficient, exponent in term:\n",
    "        if result[exponent] is None:\n",
    "            result[exponent] = coefficient\n",
    "        else:\n",
    "            result[exponent] += coefficient\n",
    "            result.pop()\n",
    "    return [(coefficient, exponent) for exponent, coefficient in reversed(list(enumerate(result)))]\n",
    "\n",
    "def make_generator_polynomial(error_correction_codewords):\n",
    "\n",
    "    term = lambda n: [(GF256_Number(alpha=0), 1), (GF256_Number(alpha=n), 0)]\n",
    "\n",
    "    result = term(0)\n",
    "    for n in range(1, error_correction_codewords):\n",
    "        result = combine(multiply_terms(result, term(n)))\n",
    "\n",
    "    return [coefficient for coefficient, exponent in result]\n",
    "\n",
    "\n",
    "[coefficient.integer for coefficient in make_generator_polynomial(7)]\n",
    "# result = make_generator_polynomial(7)\n",
    "# print(\" + \".join([f\"a^{coefficient.alpha}*x^{exponent}\" for coefficient, exponent in result]))\n",
    "# print(\"a^0*x^7 + a^87*x^6 + a^229*x^5 + a^146*x^4 + a^149*x^3 + a^238*x^2 + a^102*x^1 + a^21*x^0\")\n",
    "# result = [coefficient for coefficient, exponent in result]\n",
    "# result"
   ]
  },
  {
   "cell_type": "code",
   "execution_count": 26,
   "metadata": {},
   "outputs": [],
   "source": [
    "# test with a Q-5 qr code\n",
    "test_Q5_total_bit_string = \"0100001101010101010001101000011001010111001001100101010111000010011101110011001000000110000100100000011001100111001001101111011011110110010000100000011101110110100001101111001000000111001001100101011000010110110001101100011110010010000001101011011011100110111101110111011100110010000001110111011010000110010101110010011001010010000001101000011010010111001100100000011101000110111101110111011001010110110000100000011010010111001100101110000011101100000100011110110000010001111011000001000111101100\"\n",
    "test_Q5_version = 5\n",
    "test_Q5_error_correction_level = ErrorCorrectionLevel.Q\n",
    "test_Q5_result = [[['01000011', '01010101', '01000110', '10000110', '01010111', '00100110', '01010101', '11000010', '01110111', '00110010', '00000110', '00010010', '00000110', '01100111', '00100110'], ['11110110', '11110110', '01000010', '00000111', '01110110', '10000110', '11110010', '00000111', '00100110', '01010110', '00010110', '11000110', '11000111', '10010010', '00000110']], [['10110110', '11100110', '11110111', '01110111', '00110010', '00000111', '01110110', '10000110', '01010111', '00100110', '01010010', '00000110', '10000110', '10010111', '00110010', '00000111'], ['01000110', '11110111', '01110110', '01010110', '11000010', '00000110', '10010111', '00110010', '11100000', '11101100', '00010001', '11101100', '00010001', '11101100', '00010001', '11101100']]]\n",
    "\n",
    "test_Q5_num_of_blocks_per_group = get_blocks_per_group(test_Q5_version, test_Q5_error_correction_level)\n",
    "test_Q5_num_of_codewords_per_block = get_codewords_per_block(test_Q5_version, test_Q5_error_correction_level)\n",
    "test_Q5_total_codewords = get_total_codewords(test_Q5_version, test_Q5_error_correction_level)\n",
    "\n",
    "test_Q5_codewords = split_string_into_chunks(test_Q5_total_bit_string, 8)\n",
    "assert all(len(test_Q5_codeword) == 8 for test_Q5_codeword in test_Q5_codewords)\n",
    "\n",
    "test_Q5_groups = split_in_groups(test_Q5_codewords, test_Q5_num_of_blocks_per_group, test_Q5_num_of_codewords_per_block)\n",
    "assert test_Q5_groups == test_Q5_result"
   ]
  },
  {
   "cell_type": "code",
   "execution_count": 27,
   "metadata": {},
   "outputs": [],
   "source": [
    "def polynomial_long_division_gf256(message_polynomial, generator_polynomial):\n",
    "\n",
    "    def polynomial_long_division_gf256_step(message_polynomial, generator_polynomial):\n",
    "        # Multiply the generator_polynomial by the lead term of the messenger_polynomial\n",
    "        lead_coefficient_message = message_polynomial[0]\n",
    "        result = [coefficent*lead_coefficient_message for coefficent in generator_polynomial]\n",
    "        \n",
    "        # XOR the result with the messenger Polynomial (fill with integer=0)\n",
    "        coefficient_pairs = itertools.zip_longest(message_polynomial, result, fillvalue=GF256_Number(integer=0))\n",
    "        result = [message_coefficient + result_1a_coefficient for message_coefficient, result_1a_coefficient in coefficient_pairs]\n",
    "\n",
    "        # discard leading zero\n",
    "        result = result[1:]\n",
    "        return result\n",
    "\n",
    "    result = message_polynomial\n",
    "    for index in range(len(message_polynomial)):\n",
    "        result = polynomial_long_division_gf256_step(message_polynomial=result, generator_polynomial=generator_polynomial)\n",
    "    \n",
    "    return result\n",
    "\n",
    "# print(message_polynomial)\n",
    "# error_correction_codewords = polynomial_long_division_gf256(message_polynomial, make_generator_polynomial(10))\n",
    "# print(error_correction_codewords)"
   ]
  },
  {
   "cell_type": "code",
   "execution_count": 28,
   "metadata": {},
   "outputs": [],
   "source": [
    "def interweave(codewords: list) -> list:\n",
    "    # flatten, to make one array of blocks\n",
    "    flattened = sum(codewords, [])\n",
    "    # zip together all the blocks\n",
    "    zipped = itertools.zip_longest(*flattened, fillvalue=None)\n",
    "    # remove all 'None's and flatten again\n",
    "    result = list(filter(lambda value: value is not None, sum(zipped, ())))\n",
    "    return result\n",
    "\n",
    "test_codewords = [\n",
    "    [\n",
    "        [\n",
    "            [67, 85, 70, 134, 87, 38, 85, 194, 119, 50, 6, 18, 6, 103, 38],\n",
    "            [246, 246, 66, 7, 118, 134, 242, 7, 38, 86, 22, 198, 199, 146, 6]\n",
    "        ],\n",
    "        [\n",
    "            [182, 230, 247, 119, 50, 7, 118, 134, 87, 38, 82, 6, 134, 151, 50, 7],\n",
    "            [70,247,118,86,194,6,151,50,16,236,17,236,17,236,17,236]\n",
    "        ]\n",
    "    ],\n",
    "    [\n",
    "        [\n",
    "            [213, 199, 11, 45, 115, 247, 241, 223, 229, 248, 154, 117, 154, 111, 86, 161, 111, 39],\n",
    "            [87, 204, 96, 60, 202, 182, 124, 157, 200, 134, 27, 129, 209, 17, 163, 163, 120, 133]\n",
    "        ],\n",
    "        [\n",
    "            [148, 116, 177, 212, 76, 133, 75, 242, 238, 76, 195, 230, 189, 10, 108, 240, 192, 141],\n",
    "            [235, 159, 5, 173, 24, 147, 59, 33, 106, 40, 255, 172, 82, 2, 131, 32, 178, 236]\n",
    "        ]\n",
    "    ]\n",
    "]\n",
    "\n",
    "\n",
    "fin = [67, 246, 182, 70, 85, 246, 230, 247, 70, 66, 247, 118, 134, 7, 119, 86, 87, 118, 50, 194, 38, 134, 7, 6, 85, 242, 118, 151, 194, 7, 134, 50, 119, 38, 87, 16, 50, 86, 38, 236, 6, 22, 82, 17, 18, 198, 6, 236, 6, 199, 134, 17, 103, 146, 151, 236, 38, 6, 50, 17, 7, 236]\n",
    "fin_err = [213, 87, 148, 235, 199, 204, 116, 159, 11, 96, 177, 5, 45, 60, 212, 173, 115, 202, 76, 24, 247, 182, 133, 147, 241, 124, 75, 59, 223, 157, 242, 33, 229, 200, 238, 106, 248, 134, 76, 40, 154, 27, 195, 255, 117, 129, 230, 172, 154, 209, 189, 82, 111, 17, 10, 2, 86, 163, 108, 131, 161, 163, 240, 32, 111, 120, 192, 178, 39, 133, 141, 236]\n",
    "\n",
    "assert interweave(test_codewords[0]) == fin\n",
    "assert interweave(test_codewords[1]) == fin_err"
   ]
  },
  {
   "cell_type": "code",
   "execution_count": 29,
   "metadata": {},
   "outputs": [],
   "source": [
    "with open('../resources/remainder_bits.pickle', 'rb') as file:\n",
    "    # Load the array from the file using pickle\n",
    "    remainder_bits_table = pickle.load(file)\n",
    "\n",
    "def get_remainder_bits(version: int) -> int:\n",
    "    if not 1 <= version <= 40:\n",
    "        raise ValueError(f\"the version needs to be in the range 1 through 40\")\n",
    "    return remainder_bits_table[version-1]\n",
    "\n",
    "assert get_remainder_bits(40) == 0\n",
    "assert get_remainder_bits(1) == 0"
   ]
  },
  {
   "cell_type": "code",
   "execution_count": 30,
   "metadata": {},
   "outputs": [
    {
     "data": {
      "text/plain": [
       "1079"
      ]
     },
     "execution_count": 30,
     "metadata": {},
     "output_type": "execute_result"
    }
   ],
   "source": [
    "def make_groups(data: str, error_correction_level: ErrorCorrectionLevel, version=None) -> str: # just current name # TODO: just temp function, group functions better\n",
    "    mode = get_mode(data)\n",
    "    # version = get_minimum_version(len(data), mode, error_correction_level)\n",
    "    version = version if version is not None else get_minimum_version(len(data), mode, error_correction_level) # TODO: just temporary override???\n",
    "    character_count_indicator = get_char_counter_binary(len(data), version, mode)\n",
    "    encoded_data = encode_data(data, mode)\n",
    "\n",
    "    total_data_bits_required = get_total_codewords(version, error_correction_level)*8\n",
    "    num_of_blocks_per_group = get_blocks_per_group(version, error_correction_level)\n",
    "\n",
    "    num_of_codewords_per_block = get_codewords_per_block(version, error_correction_level)\n",
    "    total_codewords = get_total_codewords(version, error_correction_level)\n",
    "    num_of_error_correction_codewords = get_error_correction_codewords_per_block(version, error_correction_level)\n",
    "\n",
    "    total_bit_string = mode_indicator_mapping[mode] + character_count_indicator + encoded_data\n",
    "    total_bit_string = fill_with_pad_bytes(add_padding(add_terminator(total_bit_string, total_data_bits_required)), total_data_bits_required)\n",
    "    \n",
    "    codewords = split_string_into_chunks(total_bit_string, 8)\n",
    "\n",
    "    assert all(len(codeword) == 8 for codeword in codewords)\n",
    "\n",
    "    data_codewords_in_groups = split_in_groups(codewords, num_of_blocks_per_group, num_of_codewords_per_block)\n",
    "\n",
    "    generator_polynomial = make_generator_polynomial(num_of_error_correction_codewords)\n",
    "\n",
    "    error_correction_codewords_in_groups = []\n",
    "\n",
    "    # convert data_codewords from binary to integers\n",
    "    for group_index, group in enumerate(data_codewords_in_groups):\n",
    "        for block_index, block in enumerate(group):\n",
    "            data_codewords_in_groups[group_index][block_index] = [int(codeword, 2) for codeword in block]\n",
    "\n",
    "    # make the error_correction_codewords and arange them into groups and blocks\n",
    "    for group in data_codewords_in_groups:\n",
    "        error_correction_codewords_single_group = []\n",
    "        for block in group:\n",
    "            message_polynomial = [GF256_Number(integer=codeword) for codeword in block]\n",
    "            error_correction_codewords_single_block = polynomial_long_division_gf256(message_polynomial, generator_polynomial)\n",
    "            error_correction_codewords_single_block = [codeword.integer for codeword in error_correction_codewords_single_block] # convert to integers\n",
    "            error_correction_codewords_single_group.append(error_correction_codewords_single_block)\n",
    "        error_correction_codewords_in_groups.append(error_correction_codewords_single_group)\n",
    "\n",
    "    # interweave if there is more than one block\n",
    "    # => interweave if there is more than one block in group 1\n",
    "    if num_of_blocks_per_group[0] > 1:\n",
    "        final_message = interweave(data_codewords_in_groups) + interweave(error_correction_codewords_in_groups)\n",
    "    else:\n",
    "        # else just use 1 block:\n",
    "        final_message = data_codewords_in_groups[0][0] + error_correction_codewords_in_groups[0][0]\n",
    "\n",
    "    num_remainder_bits = get_remainder_bits(version)\n",
    "    # print(num_remainder_bits)\n",
    "\n",
    "    bits = ''.join(format(byte, '08b') for byte in final_message) + '0'*num_remainder_bits\n",
    "\n",
    "    return bits\n",
    "\n",
    "out = make_groups(\"HELLO WORLD\", ErrorCorrectionLevel.Q, version=5)\n",
    "# a = make_groups(\"HELLO WORLD\", ErrorCorrectionLevel.M)\n",
    "len(out)\n",
    "# version 7: len(out) == 1568\n",
    "# version 5: len(out) == 1079"
   ]
  },
  {
   "cell_type": "code",
   "execution_count": 31,
   "metadata": {},
   "outputs": [],
   "source": [
    "class Module(Enum):\n",
    "    black = auto()\n",
    "    white = auto()\n",
    "    empty = auto()\n",
    "    reserved_for_format_information = auto()\n",
    "    reserved_for_version_information = auto()\n",
    "\n",
    "    # might not be needed\n",
    "    data_white = auto()\n",
    "    data_black = auto()\n",
    "\n",
    "symbols = {\n",
    "    Module.empty: ' ',\n",
    "    Module.white: '_',\n",
    "    Module.black: '#',\n",
    "    Module.data_white: 'o',\n",
    "    Module.data_black: '+',\n",
    "    Module.reserved_for_format_information: 'x',\n",
    "    Module.reserved_for_version_information: 'y'\n",
    "}"
   ]
  },
  {
   "cell_type": "code",
   "execution_count": 32,
   "metadata": {},
   "outputs": [
    {
     "name": "stdout",
     "output_type": "stream",
     "text": [
      " . . . . \n",
      " . . . . \n",
      " . . . . \n",
      " . . . . \n",
      " . . . . \n"
     ]
    }
   ],
   "source": [
    "matrix = np.full((5, 5), Module.empty)\n",
    "\n",
    "def pp_mat(mat, sep=\".\"):\n",
    "    for row in mat:\n",
    "        print(sep.join([symbols[e] for e in row]))\n",
    "\n",
    "pp_mat(matrix)"
   ]
  },
  {
   "cell_type": "code",
   "execution_count": 33,
   "metadata": {},
   "outputs": [
    {
     "data": {
      "image/png": "[encoded data removed]",
      "text/plain": [
       "<Figure size 432x288 with 1 Axes>"
      ]
     },
     "metadata": {
      "needs_background": "light"
     },
     "output_type": "display_data"
    }
   ],
   "source": [
    "def hex_to_rgb(hex_code):\n",
    "    \"\"\"Converts a hexadecimal color code to RGB values.\"\"\"\n",
    "    r = float(int(hex_code[1:3], 16)/255)\n",
    "    g = float(int(hex_code[3:5], 16)/255)\n",
    "    b = float(int(hex_code[5:7], 16)/255)\n",
    "    return (r, g, b)\n",
    "\n",
    "hex_to_rgb(\"#646464\")\n",
    "\n",
    "cmap = {\n",
    "    Module.empty: hex_to_rgb(\"#646464\"),\n",
    "    Module.white: hex_to_rgb(\"#ffffff\"),\n",
    "    Module.black: hex_to_rgb(\"#000000\"),\n",
    "    Module.data_white: hex_to_rgb(\"#ffffdf\"),\n",
    "    Module.data_black: hex_to_rgb(\"#000050\"),\n",
    "    Module.reserved_for_format_information: hex_to_rgb(\"#0000ff\"),\n",
    "    Module.reserved_for_version_information: hex_to_rgb(\"#00ff00\")\n",
    "}\n",
    "\n",
    "def display_QR(matrix):\n",
    "    vecfunc = np.vectorize(lambda x: cmap[x])\n",
    "    rgb_arr = np.array(vecfunc(matrix))\n",
    "    rgb_arr = rgb_arr.transpose(1, 2, 0)\n",
    "    plt.imshow(rgb_arr)\n",
    "    plt.show()\n",
    "\n",
    "display_QR(matrix)"
   ]
  },
  {
   "cell_type": "code",
   "execution_count": 34,
   "metadata": {},
   "outputs": [],
   "source": [
    "def calc_size(version: int) -> int:\n",
    "    return (((version-1)*4)+21)"
   ]
  },
  {
   "cell_type": "code",
   "execution_count": 35,
   "metadata": {},
   "outputs": [
    {
     "data": {
      "text/plain": [
       "((0, 0), (30, 0), (0, 30))"
      ]
     },
     "execution_count": 35,
     "metadata": {},
     "output_type": "execute_result"
    }
   ],
   "source": [
    "def calc_finder_positions(version: int) -> tuple:\n",
    "    \"\"\" returns the top left corners of the finder positions\n",
    "    \"\"\"\n",
    "    return (0, 0), ((((version-1)*4)+21) - 7, 0), (0, (((version-1)*4)+21) - 7)\n",
    "\n",
    "# def calc_finder_positions1(version: int) -> tuple:\n",
    "#     size = (((version-1)*4)+21)\n",
    "\n",
    "#     # top left corners of finder patterns\n",
    "#     top_left_finder_pos = (0, 0)\n",
    "#     top_right_finder_pos = (size-7, 0)\n",
    "#     bottom_left_finder_pos = (0, size-7)\n",
    "\n",
    "#     return top_left_finder_pos, top_right_finder_pos, bottom_left_finder_pos\n",
    "\n",
    "# assert all([calc_finder_positions(i) == calc_finder_positions1(i) for i in range(1, 41)])\n",
    "calc_finder_positions(5)"
   ]
  },
  {
   "cell_type": "code",
   "execution_count": 36,
   "metadata": {},
   "outputs": [
    {
     "name": "stdout",
     "output_type": "stream",
     "text": [
      "37 (0, 0) (30, 0) (0, 30)\n"
     ]
    }
   ],
   "source": [
    "version = 5\n",
    "size = calc_size(version)\n",
    "# top left corners of finder patterns\n",
    "top_left_finder_pos, top_right_finder_pos, bottom_left_finder_pos = calc_finder_positions(version)\n",
    "\n",
    "print(size, top_left_finder_pos, top_right_finder_pos, bottom_left_finder_pos)"
   ]
  },
  {
   "cell_type": "code",
   "execution_count": 37,
   "metadata": {},
   "outputs": [
    {
     "name": "stdout",
     "output_type": "stream",
     "text": [
      "# # # # # # #\n",
      "# _ _ _ _ _ #\n",
      "# _ # # # _ #\n",
      "# _ # # # _ #\n",
      "# _ # # # _ #\n",
      "# _ _ _ _ _ #\n",
      "# # # # # # #\n",
      "\n",
      "# # # # #\n",
      "# _ _ _ #\n",
      "# _ # _ #\n",
      "# _ _ _ #\n",
      "# # # # #\n"
     ]
    }
   ],
   "source": [
    "FINDER_PATTERN = np.array(\n",
    "    [\n",
    "        [Module.black, Module.black, Module.black, Module.black, Module.black, Module.black, Module.black],\n",
    "        [Module.black, Module.white, Module.white, Module.white, Module.white, Module.white, Module.black],\n",
    "        [Module.black, Module.white, Module.black, Module.black, Module.black, Module.white, Module.black],\n",
    "        [Module.black, Module.white, Module.black, Module.black, Module.black, Module.white, Module.black],\n",
    "        [Module.black, Module.white, Module.black, Module.black, Module.black, Module.white, Module.black],\n",
    "        [Module.black, Module.white, Module.white, Module.white, Module.white, Module.white, Module.black],\n",
    "        [Module.black, Module.black, Module.black, Module.black, Module.black, Module.black, Module.black]\n",
    "    ]\n",
    ")\n",
    "ALIGNMENT_PATTERN = np.array(\n",
    "    [  \n",
    "        [Module.black, Module.black, Module.black, Module.black, Module.black],\n",
    "        [Module.black, Module.white, Module.white, Module.white, Module.black],\n",
    "        [Module.black, Module.white, Module.black, Module.white, Module.black],\n",
    "        [Module.black, Module.white, Module.white, Module.white, Module.black],\n",
    "        [Module.black, Module.black, Module.black, Module.black, Module.black]\n",
    "    ]\n",
    ")\n",
    "\n",
    "pp_mat(FINDER_PATTERN, sep=' ')\n",
    "print()\n",
    "pp_mat(ALIGNMENT_PATTERN, sep=' ')"
   ]
  },
  {
   "cell_type": "code",
   "execution_count": 38,
   "metadata": {},
   "outputs": [],
   "source": [
    "def place_pattern(matrix: np.array, pattern: np.array, upper_left_corner: tuple, overwrite=True) -> np.array:\n",
    "    \"\"\" \n",
    "    place a pattern from a small 2d array into a big 2d array at a certain position\n",
    "    if overwrite is False, the matrix will not be change if something beside 'Module.empty' would be overwritten\n",
    "    \"\"\"\n",
    "\n",
    "    # Check that the pattern fits within the bounds of the matrix\n",
    "    if upper_left_corner[0] + len(pattern[0]) > len(matrix[0]) or upper_left_corner[1] + len(pattern) > len(matrix):\n",
    "        raise ValueError(f\"Pattern does not fit within matrix bounds: {upper_left_corner=}, {matrix.shape=}, {pattern.shape=}\")\n",
    "\n",
    "    # Check that the upper_left_corner coordinates are valid\n",
    "    if upper_left_corner[0] < 0 or upper_left_corner[1] < 0:\n",
    "        raise ValueError(\"Upper left corner coordinates must be non-negative\")\n",
    "\n",
    "    end = upper_left_corner[0]+len(pattern[0]), upper_left_corner[1]+len(pattern)\n",
    "\n",
    "    # only change the matrix if the 'overwrite' flag is set\n",
    "    if not overwrite:\n",
    "        area = matrix[upper_left_corner[1]:end[1], upper_left_corner[0]:end[0]]\n",
    "        if not np.all(area == np.full_like(pattern, fill_value=Module.empty)):\n",
    "            return matrix\n",
    "        \n",
    "    matrix[upper_left_corner[1]:end[1], upper_left_corner[0]:end[0]] = pattern\n",
    "\n",
    "    # TODO: remove debug statement\n",
    "    # print(f\"{upper_left_corner[0]}:{end[0]}, {upper_left_corner[1]}:{end[1]}\")\n",
    "\n",
    "    return matrix\n",
    "\n",
    "# upper_left_corner = (2, 3)\n",
    "# mat = np.zeros((5, 5))\n",
    "# pat = np.ones((2, 2))\n",
    "\n",
    "# print(mat)\n",
    "# place_pattern(mat, pat, upper_left_corner)\n",
    "# print(mat)"
   ]
  },
  {
   "cell_type": "code",
   "execution_count": 39,
   "metadata": {},
   "outputs": [],
   "source": [
    "def shift_finder_pattern(pattern: np.ndarray, upper_left_corner: tuple, offset: tuple) -> tuple:\n",
    "    shifted_pattern = place_pattern(np.full((8, 8), fill_value=Module.white), pattern, offset)\n",
    "    upper_left_corner = upper_left_corner[0]-offset[0], upper_left_corner[1]-offset[1]\n",
    "    \n",
    "    return shifted_pattern, upper_left_corner\n",
    "\n",
    "# res_pat, res_corn = shift_finder_pattern(FINDER_PATTERN, top_left_finder_pos, (0, 0))\n",
    "# res_pat, res_corn = shift_finder_pattern(FINDER_PATTERN, top_right_finder_pos, (1, 0))\n",
    "# res_pat, res_corn = shift_finder_pattern(FINDER_PATTERN, bottom_left_finder_pos, (0, 1))\n",
    "# pp_mat(res_pat)\n",
    "# print(res_corn)"
   ]
  },
  {
   "cell_type": "code",
   "execution_count": 40,
   "metadata": {},
   "outputs": [],
   "source": [
    "# place_pattern(matrix, *shift_finder_pattern(FINDER_PATTERN, top_left_finder_pos, (0, 0)))\n",
    "# place_pattern(matrix, *shift_finder_pattern(FINDER_PATTERN, top_right_finder_pos, (1, 0)))\n",
    "# place_pattern(matrix, *shift_finder_pattern(FINDER_PATTERN, bottom_left_finder_pos, (0, 1)))\n",
    "\n",
    "def place_finder_patterns(matrix: np.ndarray, version: int) -> None:\n",
    "    finder_pattern_seperator_offsets = [(0, 0), (1, 0), (0, 1)]\n",
    "    for pos, offset in zip(calc_finder_positions(version), finder_pattern_seperator_offsets):\n",
    "        place_pattern(matrix, *shift_finder_pattern(FINDER_PATTERN, pos, offset), overwrite=False)\n"
   ]
  },
  {
   "cell_type": "code",
   "execution_count": 41,
   "metadata": {},
   "outputs": [],
   "source": [
    "alignment_pattern_locations_table = {\n",
    "    2  : [6, 18],\n",
    "    3  : [6, 22],\n",
    "    4  : [6, 26],\n",
    "    5  : [6, 30],\n",
    "    6  : [6, 34],\n",
    "    7  : [6, 22, 38],\n",
    "    8  : [6, 24, 42],\n",
    "    9  : [6, 26, 46],\n",
    "    10 : [6, 28, 50],\n",
    "    11 : [6, 30, 54],\n",
    "    12 : [6, 32, 58],\n",
    "    13 : [6, 34, 62],\n",
    "    14 : [6, 26, 46, 66],\n",
    "    15 : [6, 26, 48, 70],\n",
    "    16 : [6, 26, 50, 74],\n",
    "    17 : [6, 30, 54, 78],\n",
    "    18 : [6, 30, 56, 82],\n",
    "    19 : [6, 30, 58, 86],\n",
    "    20 : [6, 34, 62, 90],\n",
    "    21 : [6, 28, 50, 72, 94],\n",
    "    22 : [6, 26, 50, 74, 98],\n",
    "    23 : [6, 30, 54, 78, 102],\n",
    "    24 : [6, 28, 54, 80, 106],\n",
    "    25 : [6, 32, 58, 84, 110],\n",
    "    26 : [6, 30, 58, 86, 114],\n",
    "    27 : [6, 34, 62, 90, 118],\n",
    "    28 : [6, 26, 50, 74, 98, 122],\n",
    "    29 : [6, 30, 54, 78, 102, 126],\n",
    "    30 : [6, 26, 52, 78, 104, 130],\n",
    "    31 : [6, 30, 56, 82, 108, 134],\n",
    "    32 : [6, 34, 60, 86, 112, 138],\n",
    "    33 : [6, 30, 58, 86, 114, 142],\n",
    "    34 : [6, 34, 62, 90, 118, 146],\n",
    "    35 : [6, 30, 54, 78, 102, 126, 150],\n",
    "    36 : [6, 24, 50, 76, 102, 128, 154],\n",
    "    37 : [6, 28, 54, 80, 106, 132, 158],\n",
    "    38 : [6, 32, 58, 84, 110, 136, 162],\n",
    "    39 : [6, 26, 54, 82, 110, 138, 166],\n",
    "    40 : [6, 30, 58, 86, 114, 142, 170]\n",
    "}"
   ]
  },
  {
   "cell_type": "code",
   "execution_count": 42,
   "metadata": {},
   "outputs": [
    {
     "data": {
      "text/plain": [
       "[(6, 6), (6, 18), (18, 6), (18, 18)]"
      ]
     },
     "execution_count": 42,
     "metadata": {},
     "output_type": "execute_result"
    }
   ],
   "source": [
    "def get_alignment_positions(version: int) -> list:\n",
    "    if not 2 <= version <= 40:\n",
    "        raise ValueError(f\"The QR-Code version must be in the range '2 <= version <= 40' not {version}\")\n",
    "\n",
    "    return list(itertools.product(alignment_pattern_locations_table[version], repeat=2))\n",
    "\n",
    "# TODO: needs alignement pattern\n",
    "def place_alignment_patterns(matrix: np.ndarray, version: int) -> None:\n",
    "    for alignment_position in get_alignment_positions(version):\n",
    "        upper_left_corner = alignment_position[0]-2, alignment_position[1]-2\n",
    "        place_pattern(matrix, ALIGNMENT_PATTERN, upper_left_corner, overwrite=False)\n",
    "\n",
    "get_alignment_positions(2)"
   ]
  },
  {
   "cell_type": "code",
   "execution_count": 43,
   "metadata": {},
   "outputs": [],
   "source": [
    "# abandonend function\n",
    "def filter_alignment_positions(version: int, alignment_positions) -> list:\n",
    "    top_left_finder_pos, top_right_finder_pos, bottom_left_finder_pos = calc_finder_positions(version)\n",
    "\n",
    "    al_pos = alignment_positions[0]\n",
    "\n",
    "    # wo dont have to calculate the overlaps, since we can just check during placement"
   ]
  },
  {
   "cell_type": "code",
   "execution_count": 44,
   "metadata": {},
   "outputs": [],
   "source": [
    "def make_timing_patterns(version: int) -> tuple:\n",
    "    \"\"\" returns horizontal and vertical timing patterns\n",
    "    \"\"\"\n",
    "    # interchanging black and white, but starts with black and ends with black\n",
    "    length = int((calc_size(version)-16)/2)\n",
    "    horizontal = np.array([[Module.black, *[Module.white, Module.black]*length]])\n",
    "    \n",
    "    return horizontal, np.rot90(horizontal)\n",
    "\n",
    "def place_timing_patterns(matrix, version: int) -> None:\n",
    "    horizontal, vertical = make_timing_patterns(version)\n",
    "    place_pattern(matrix, horizontal, (8, 6))\n",
    "    place_pattern(matrix, vertical, (6, 8))"
   ]
  },
  {
   "cell_type": "code",
   "execution_count": 45,
   "metadata": {},
   "outputs": [],
   "source": [
    "def place_dark_module(matrix: np.ndarray, version: int) -> None:\n",
    "    coords = (8, ((4 * version) + 9))\n",
    "    matrix[coords[::-1]] = Module.black"
   ]
  },
  {
   "cell_type": "code",
   "execution_count": 46,
   "metadata": {},
   "outputs": [],
   "source": [
    "def calc_size(version: int) -> int:\n",
    "    return (((version-1)*4)+21)"
   ]
  },
  {
   "cell_type": "code",
   "execution_count": 47,
   "metadata": {},
   "outputs": [
    {
     "data": {
      "text/plain": [
       "True"
      ]
     },
     "execution_count": 47,
     "metadata": {},
     "output_type": "execute_result"
    }
   ],
   "source": [
    "((4 * version) + 9) == calc_size(version) -8"
   ]
  },
  {
   "cell_type": "code",
   "execution_count": 48,
   "metadata": {},
   "outputs": [],
   "source": [
    "def reserve_format_information_area(matrix: np.ndarray, version: int) -> None:\n",
    "    def top_left():\n",
    "        x = 8\n",
    "        for y in range(0, 6):\n",
    "            matrix[y, x] = Module.reserved_for_format_information\n",
    "\n",
    "        y = 8\n",
    "        for x in range(0, 6):\n",
    "            matrix[y, x] = Module.reserved_for_format_information\n",
    "\n",
    "        coords = [(8, 8), (7, 8), (8, 7)]\n",
    "        for coord in coords:\n",
    "            matrix[coord] = Module.reserved_for_format_information\n",
    "\n",
    "    def top_right():\n",
    "        y = 8\n",
    "        for x in range(size-8, size):\n",
    "            matrix[y, x] = Module.reserved_for_format_information\n",
    "    \n",
    "    def bottom_left():\n",
    "        x = 8\n",
    "        for y in range(size-7, size):\n",
    "            matrix[y, x] = Module.reserved_for_format_information\n",
    "    \n",
    "    size = calc_size(version)\n",
    "\n",
    "    top_left()\n",
    "    top_right()\n",
    "    bottom_left()"
   ]
  },
  {
   "cell_type": "code",
   "execution_count": 49,
   "metadata": {},
   "outputs": [],
   "source": [
    "def reserve_version_information_area(matrix: np.ndarray, version: int) -> None:\n",
    "    def top_right():\n",
    "        pattern = np.full((3, 6), fill_value=Module.reserved_for_version_information)\n",
    "        upper_left_corner = (0, size-11) # TODO: might be 10\n",
    "        place_pattern(matrix, pattern, upper_left_corner)\n",
    "\n",
    "    def bottom_left():\n",
    "        pattern = np.full((6, 3), fill_value=Module.reserved_for_version_information)\n",
    "        upper_left_corner = (size-11, 0) # TODO: might be 10\n",
    "        place_pattern(matrix, pattern, upper_left_corner)\n",
    "\n",
    "    size = calc_size(version)\n",
    "\n",
    "    top_right()\n",
    "    bottom_left()"
   ]
  },
  {
   "cell_type": "code",
   "execution_count": 50,
   "metadata": {},
   "outputs": [],
   "source": [
    "def place_function_patterns(matrix: np.ndarray, version: int) -> None:\n",
    "    # TODO: make all theses functions without sideffects\n",
    "    place_finder_patterns(matrix, version)\n",
    "    place_alignment_patterns(matrix, version)\n",
    "    place_timing_patterns(matrix, version)\n",
    "    place_dark_module(matrix, version)\n",
    "    if version >= 2:\n",
    "        reserve_format_information_area(matrix, version)\n",
    "    if version >= 7:\n",
    "        reserve_version_information_area(matrix, version)"
   ]
  },
  {
   "cell_type": "code",
   "execution_count": 51,
   "metadata": {},
   "outputs": [
    {
     "data": {
      "image/png": "[encoded data removed]",
      "text/plain": [
       "<Figure size 432x288 with 1 Axes>"
      ]
     },
     "metadata": {
      "needs_background": "light"
     },
     "output_type": "display_data"
    },
    {
     "data": {
      "image/png": "[encoded data removed]",
      "text/plain": [
       "<Figure size 432x288 with 1 Axes>"
      ]
     },
     "metadata": {
      "needs_background": "light"
     },
     "output_type": "display_data"
    }
   ],
   "source": [
    "version = 7\n",
    "matrix = np.full((calc_size(version), calc_size(version)), Module.empty)\n",
    "\n",
    "place_function_patterns(matrix, version)\n",
    "display_QR(matrix)\n",
    "matrix = np.rot90(matrix)\n",
    "\n",
    "# pp_mat(matrix)\n",
    "display_QR(matrix)"
   ]
  },
  {
   "cell_type": "code",
   "execution_count": 81,
   "metadata": {},
   "outputs": [],
   "source": [
    "def fill_qr_code(matrix, data_bytes, version):\n",
    "\n",
    "    def data_bytes_iterator(data):\n",
    "        # TODO: this should at some point yield the actual data ...\n",
    "        for bit in data:\n",
    "            yield Module.data_black if bit == '1' else Module.data_white\n",
    "        print(\"you should never have come here, but now that you are here ...\")\n",
    "\n",
    "    bits = data_bytes_iterator(data_bytes)\n",
    "\n",
    "    y = 0\n",
    "    while y < len(matrix)-1:\n",
    "        # skip the timing pattern, we should arrive here after a full completion of 2 rows ...\n",
    "        if y == calc_size(version)-7:\n",
    "            print(f\"skipping a row:\")\n",
    "            pp_mat([matrix[y]])\n",
    "            y +=1\n",
    "\n",
    "        for x in reversed(range(len(matrix[0]))): # TODO: the data should be filled in the correct way(direction), but not thaaat sure ...\n",
    "            # only fill in data, if the area is not already filled, otherwise skip ...\n",
    "            if matrix[y, x] == Module.empty:\n",
    "                matrix[y, x] = next(bits)\n",
    "            if matrix[y+1, x] == Module.empty:\n",
    "                matrix[y+1, x] = next(bits)\n",
    "\n",
    "        y+=2\n",
    "\n",
    "    # print(next(bits)) # TODO: if everything works, this should crash the program "
   ]
  },
  {
   "cell_type": "code",
   "execution_count": 82,
   "metadata": {},
   "outputs": [
    {
     "data": {
      "image/png": "[encoded data removed]",
      "text/plain": [
       "<Figure size 432x288 with 1 Axes>"
      ]
     },
     "metadata": {
      "needs_background": "light"
     },
     "output_type": "display_data"
    },
    {
     "name": "stdout",
     "output_type": "stream",
     "text": [
      "skipping a row:\n",
      "#.#.#.#.#.#.#._.#._.#._.#._.#._.#._.#._.#._.#._.#._.#._.#._.#._.#._.#._.#._.#.#.#.#.#.#.#\n"
     ]
    },
    {
     "data": {
      "image/png": "[encoded data removed]",
      "text/plain": [
       "<Figure size 432x288 with 1 Axes>"
      ]
     },
     "metadata": {
      "needs_background": "light"
     },
     "output_type": "display_data"
    }
   ],
   "source": [
    "version = 7\n",
    "matrix = np.full((calc_size(version), calc_size(version)), Module.empty)\n",
    "\n",
    "place_function_patterns(matrix, version)\n",
    "matrix = np.rot90(matrix)\n",
    "display_QR(matrix)\n",
    "\n",
    "out = make_groups(\"0\"*200, ErrorCorrectionLevel.L, version=version)\n",
    "fill_qr_code(matrix, out, version)\n",
    "display_QR(matrix)"
   ]
  }
 ],
 "metadata": {
  "kernelspec": {
   "display_name": "Python 3",
   "language": "python",
   "name": "python3"
  },
  "language_info": {
   "codemirror_mode": {
    "name": "ipython",
    "version": 3
   },
   "file_extension": ".py",
   "mimetype": "text/x-python",
   "name": "python",
   "nbconvert_exporter": "python",
   "pygments_lexer": "ipython3",
   "version": "3.9.0"
  },
  "orig_nbformat": 4,
  "vscode": {
   "interpreter": {
    "hash": "11938c6bc6919ae2720b4d5011047913343b08a43b18698fd82dedb0d4417594"
   }
  }
 },
 "nbformat": 4,
 "nbformat_minor": 2
}
